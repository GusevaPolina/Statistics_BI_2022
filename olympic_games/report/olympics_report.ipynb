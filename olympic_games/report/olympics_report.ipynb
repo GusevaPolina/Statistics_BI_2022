{
  "nbformat": 4,
  "nbformat_minor": 0,
  "metadata": {
    "colab": {
      "provenance": [],
      "collapsed_sections": [
        "fjhQzMl6v1x-",
        "A62Zu7od43C6",
        "M_HNvOSpz69b",
        "Yo5DnJT-0Ipg",
        "LFOHvuAs0b62",
        "8lzTm8_q1VqL",
        "HVZqFba01k3T",
        "5MgIwTm21z5f",
        "Q6gzk20k2QGx",
        "kHfC8IoO2dea",
        "JXTOLUyD8i4L",
        "KWp_vRCf80HF",
        "aIEePOgs88Lo",
        "gattIdHm9Gwh",
        "iDVs1PRKAFJ6"
      ]
    },
    "kernelspec": {
      "name": "python3",
      "display_name": "Python 3"
    },
    "language_info": {
      "name": "python"
    }
  },
  "cells": [
    {
      "cell_type": "markdown",
      "source": [
        "# Statictics, Project \\#2: Olympic Games within last 120 years\n",
        "by Polina Guseva"
      ],
      "metadata": {
        "id": "64W93IlHtPw3"
      }
    },
    {
      "cell_type": "code",
      "execution_count": 46,
      "metadata": {
        "id": "BSq2vaUZGLU0"
      },
      "outputs": [],
      "source": [
        "import numpy as np\n",
        "import pandas as pd\n",
        "import matplotlib.pyplot as plt\n",
        "import seaborn as sns"
      ]
    },
    {
      "cell_type": "markdown",
      "source": [
        "### task\\#1: combine files and write a custom function for coming events"
      ],
      "metadata": {
        "id": "fjhQzMl6v1x-"
      }
    },
    {
      "cell_type": "code",
      "source": [
        "import os"
      ],
      "metadata": {
        "id": "-qeuNiqcVyOE"
      },
      "execution_count": 47,
      "outputs": []
    },
    {
      "cell_type": "code",
      "source": [
        "def combiner(path_to_folder, extension):\n",
        "  os.chdir(path_to_folder)\n",
        "  extension_checker = {'csv': pd.read_csv, 'pickle': pd.read_pickle, 'fwf': pd.read_fwf,\n",
        "                       'clipboard': pd.read_clipboard, 'excel': pd.read_excel,\n",
        "                       'json': pd.read_json, 'html': pd.read_html, 'xml': pd.read_xml,\n",
        "                       'hdf': pd.read_hdf, 'feather': pd.read_feather,\n",
        "                       'parquet': pd.read_parquet, 'orc': pd.read_orc,\n",
        "                       'sas': pd.read_sas, 'spss': pd.read_spss, 'sql': pd.read_sql,\n",
        "                       'sql_table': pd.read_sql_table, 'sql_query': pd.read_sql_query}\n",
        "  df_list = [extension_checker[extension](file) for file in os.listdir()]\n",
        "  # check for any column mismatches\n",
        "  checker = []\n",
        "  for i in range(len(df_list) - 1):\n",
        "    checker.append((df_list[i].columns == df_list[i+1].columns).all())\n",
        "  if all(checker):\n",
        "    return pd.concat(df_list)\n",
        "  else:\n",
        "    return 'Your columns are not equal'"
      ],
      "metadata": {
        "id": "m4wDQSJzV2BY"
      },
      "execution_count": 48,
      "outputs": []
    },
    {
      "cell_type": "code",
      "source": [
        "df = combiner(\"/content/raw_data\", 'csv')\n",
        "df.head()"
      ],
      "metadata": {
        "colab": {
          "base_uri": "https://localhost:8080/",
          "height": 327
        },
        "id": "pIyj-MReUyze",
        "outputId": "52d46a2b-272f-42f4-f540-f902fbc56dc9"
      },
      "execution_count": 86,
      "outputs": [
        {
          "output_type": "execute_result",
          "data": {
            "text/plain": [
              "       ID                       Name Sex   Age  Height  Weight         Team  \\\n",
              "0  124517          William Van Dijck   M  23.0   185.0    65.0      Belgium   \n",
              "1  124517          William Van Dijck   M  27.0   185.0    65.0      Belgium   \n",
              "2  124517          William Van Dijck   M  31.0   185.0    65.0      Belgium   \n",
              "3  124518     Daniel \"Daan\" van Dijk   M  21.0     NaN     NaN  Netherlands   \n",
              "4  124519  Everdina \"Edith\" van Dijk   F  35.0   176.0    66.0  Netherlands   \n",
              "\n",
              "   NOC        Games    Year  Season         City      Sport  \\\n",
              "0  BEL  1984 Summer  1984.0  Summer  Los Angeles  Athletics   \n",
              "1  BEL  1988 Summer  1988.0  Summer        Seoul  Athletics   \n",
              "2  BEL  1992 Summer  1992.0  Summer    Barcelona  Athletics   \n",
              "3  NED  1928 Summer  1928.0  Summer    Amsterdam    Cycling   \n",
              "4  NED  2008 Summer  2008.0  Summer      Beijing   Swimming   \n",
              "\n",
              "                                       Event Medal  \n",
              "0  Athletics Men's 3,000 metres Steeplechase   NaN  \n",
              "1  Athletics Men's 3,000 metres Steeplechase   NaN  \n",
              "2  Athletics Men's 3,000 metres Steeplechase   NaN  \n",
              "3  Cycling Men's Tandem Sprint, 2,000 metres  Gold  \n",
              "4  Swimming Women's 10 kilometres Open Water   NaN  "
            ],
            "text/html": [
              "\n",
              "  <div id=\"df-70d84b0f-5c91-4099-98d2-12008686108e\">\n",
              "    <div class=\"colab-df-container\">\n",
              "      <div>\n",
              "<style scoped>\n",
              "    .dataframe tbody tr th:only-of-type {\n",
              "        vertical-align: middle;\n",
              "    }\n",
              "\n",
              "    .dataframe tbody tr th {\n",
              "        vertical-align: top;\n",
              "    }\n",
              "\n",
              "    .dataframe thead th {\n",
              "        text-align: right;\n",
              "    }\n",
              "</style>\n",
              "<table border=\"1\" class=\"dataframe\">\n",
              "  <thead>\n",
              "    <tr style=\"text-align: right;\">\n",
              "      <th></th>\n",
              "      <th>ID</th>\n",
              "      <th>Name</th>\n",
              "      <th>Sex</th>\n",
              "      <th>Age</th>\n",
              "      <th>Height</th>\n",
              "      <th>Weight</th>\n",
              "      <th>Team</th>\n",
              "      <th>NOC</th>\n",
              "      <th>Games</th>\n",
              "      <th>Year</th>\n",
              "      <th>Season</th>\n",
              "      <th>City</th>\n",
              "      <th>Sport</th>\n",
              "      <th>Event</th>\n",
              "      <th>Medal</th>\n",
              "    </tr>\n",
              "  </thead>\n",
              "  <tbody>\n",
              "    <tr>\n",
              "      <th>0</th>\n",
              "      <td>124517</td>\n",
              "      <td>William Van Dijck</td>\n",
              "      <td>M</td>\n",
              "      <td>23.0</td>\n",
              "      <td>185.0</td>\n",
              "      <td>65.0</td>\n",
              "      <td>Belgium</td>\n",
              "      <td>BEL</td>\n",
              "      <td>1984 Summer</td>\n",
              "      <td>1984.0</td>\n",
              "      <td>Summer</td>\n",
              "      <td>Los Angeles</td>\n",
              "      <td>Athletics</td>\n",
              "      <td>Athletics Men's 3,000 metres Steeplechase</td>\n",
              "      <td>NaN</td>\n",
              "    </tr>\n",
              "    <tr>\n",
              "      <th>1</th>\n",
              "      <td>124517</td>\n",
              "      <td>William Van Dijck</td>\n",
              "      <td>M</td>\n",
              "      <td>27.0</td>\n",
              "      <td>185.0</td>\n",
              "      <td>65.0</td>\n",
              "      <td>Belgium</td>\n",
              "      <td>BEL</td>\n",
              "      <td>1988 Summer</td>\n",
              "      <td>1988.0</td>\n",
              "      <td>Summer</td>\n",
              "      <td>Seoul</td>\n",
              "      <td>Athletics</td>\n",
              "      <td>Athletics Men's 3,000 metres Steeplechase</td>\n",
              "      <td>NaN</td>\n",
              "    </tr>\n",
              "    <tr>\n",
              "      <th>2</th>\n",
              "      <td>124517</td>\n",
              "      <td>William Van Dijck</td>\n",
              "      <td>M</td>\n",
              "      <td>31.0</td>\n",
              "      <td>185.0</td>\n",
              "      <td>65.0</td>\n",
              "      <td>Belgium</td>\n",
              "      <td>BEL</td>\n",
              "      <td>1992 Summer</td>\n",
              "      <td>1992.0</td>\n",
              "      <td>Summer</td>\n",
              "      <td>Barcelona</td>\n",
              "      <td>Athletics</td>\n",
              "      <td>Athletics Men's 3,000 metres Steeplechase</td>\n",
              "      <td>NaN</td>\n",
              "    </tr>\n",
              "    <tr>\n",
              "      <th>3</th>\n",
              "      <td>124518</td>\n",
              "      <td>Daniel \"Daan\" van Dijk</td>\n",
              "      <td>M</td>\n",
              "      <td>21.0</td>\n",
              "      <td>NaN</td>\n",
              "      <td>NaN</td>\n",
              "      <td>Netherlands</td>\n",
              "      <td>NED</td>\n",
              "      <td>1928 Summer</td>\n",
              "      <td>1928.0</td>\n",
              "      <td>Summer</td>\n",
              "      <td>Amsterdam</td>\n",
              "      <td>Cycling</td>\n",
              "      <td>Cycling Men's Tandem Sprint, 2,000 metres</td>\n",
              "      <td>Gold</td>\n",
              "    </tr>\n",
              "    <tr>\n",
              "      <th>4</th>\n",
              "      <td>124519</td>\n",
              "      <td>Everdina \"Edith\" van Dijk</td>\n",
              "      <td>F</td>\n",
              "      <td>35.0</td>\n",
              "      <td>176.0</td>\n",
              "      <td>66.0</td>\n",
              "      <td>Netherlands</td>\n",
              "      <td>NED</td>\n",
              "      <td>2008 Summer</td>\n",
              "      <td>2008.0</td>\n",
              "      <td>Summer</td>\n",
              "      <td>Beijing</td>\n",
              "      <td>Swimming</td>\n",
              "      <td>Swimming Women's 10 kilometres Open Water</td>\n",
              "      <td>NaN</td>\n",
              "    </tr>\n",
              "  </tbody>\n",
              "</table>\n",
              "</div>\n",
              "      <button class=\"colab-df-convert\" onclick=\"convertToInteractive('df-70d84b0f-5c91-4099-98d2-12008686108e')\"\n",
              "              title=\"Convert this dataframe to an interactive table.\"\n",
              "              style=\"display:none;\">\n",
              "        \n",
              "  <svg xmlns=\"http://www.w3.org/2000/svg\" height=\"24px\"viewBox=\"0 0 24 24\"\n",
              "       width=\"24px\">\n",
              "    <path d=\"M0 0h24v24H0V0z\" fill=\"none\"/>\n",
              "    <path d=\"M18.56 5.44l.94 2.06.94-2.06 2.06-.94-2.06-.94-.94-2.06-.94 2.06-2.06.94zm-11 1L8.5 8.5l.94-2.06 2.06-.94-2.06-.94L8.5 2.5l-.94 2.06-2.06.94zm10 10l.94 2.06.94-2.06 2.06-.94-2.06-.94-.94-2.06-.94 2.06-2.06.94z\"/><path d=\"M17.41 7.96l-1.37-1.37c-.4-.4-.92-.59-1.43-.59-.52 0-1.04.2-1.43.59L10.3 9.45l-7.72 7.72c-.78.78-.78 2.05 0 2.83L4 21.41c.39.39.9.59 1.41.59.51 0 1.02-.2 1.41-.59l7.78-7.78 2.81-2.81c.8-.78.8-2.07 0-2.86zM5.41 20L4 18.59l7.72-7.72 1.47 1.35L5.41 20z\"/>\n",
              "  </svg>\n",
              "      </button>\n",
              "      \n",
              "  <style>\n",
              "    .colab-df-container {\n",
              "      display:flex;\n",
              "      flex-wrap:wrap;\n",
              "      gap: 12px;\n",
              "    }\n",
              "\n",
              "    .colab-df-convert {\n",
              "      background-color: #E8F0FE;\n",
              "      border: none;\n",
              "      border-radius: 50%;\n",
              "      cursor: pointer;\n",
              "      display: none;\n",
              "      fill: #1967D2;\n",
              "      height: 32px;\n",
              "      padding: 0 0 0 0;\n",
              "      width: 32px;\n",
              "    }\n",
              "\n",
              "    .colab-df-convert:hover {\n",
              "      background-color: #E2EBFA;\n",
              "      box-shadow: 0px 1px 2px rgba(60, 64, 67, 0.3), 0px 1px 3px 1px rgba(60, 64, 67, 0.15);\n",
              "      fill: #174EA6;\n",
              "    }\n",
              "\n",
              "    [theme=dark] .colab-df-convert {\n",
              "      background-color: #3B4455;\n",
              "      fill: #D2E3FC;\n",
              "    }\n",
              "\n",
              "    [theme=dark] .colab-df-convert:hover {\n",
              "      background-color: #434B5C;\n",
              "      box-shadow: 0px 1px 3px 1px rgba(0, 0, 0, 0.15);\n",
              "      filter: drop-shadow(0px 1px 2px rgba(0, 0, 0, 0.3));\n",
              "      fill: #FFFFFF;\n",
              "    }\n",
              "  </style>\n",
              "\n",
              "      <script>\n",
              "        const buttonEl =\n",
              "          document.querySelector('#df-70d84b0f-5c91-4099-98d2-12008686108e button.colab-df-convert');\n",
              "        buttonEl.style.display =\n",
              "          google.colab.kernel.accessAllowed ? 'block' : 'none';\n",
              "\n",
              "        async function convertToInteractive(key) {\n",
              "          const element = document.querySelector('#df-70d84b0f-5c91-4099-98d2-12008686108e');\n",
              "          const dataTable =\n",
              "            await google.colab.kernel.invokeFunction('convertToInteractive',\n",
              "                                                     [key], {});\n",
              "          if (!dataTable) return;\n",
              "\n",
              "          const docLinkHtml = 'Like what you see? Visit the ' +\n",
              "            '<a target=\"_blank\" href=https://colab.research.google.com/notebooks/data_table.ipynb>data table notebook</a>'\n",
              "            + ' to learn more about interactive tables.';\n",
              "          element.innerHTML = '';\n",
              "          dataTable['output_type'] = 'display_data';\n",
              "          await google.colab.output.renderOutput(dataTable, element);\n",
              "          const docLink = document.createElement('div');\n",
              "          docLink.innerHTML = docLinkHtml;\n",
              "          element.appendChild(docLink);\n",
              "        }\n",
              "      </script>\n",
              "    </div>\n",
              "  </div>\n",
              "  "
            ]
          },
          "metadata": {},
          "execution_count": 86
        }
      ]
    },
    {
      "cell_type": "markdown",
      "source": [
        "### task \\#2: manage possible outliers"
      ],
      "metadata": {
        "id": "A62Zu7od43C6"
      }
    },
    {
      "cell_type": "code",
      "source": [
        "# now let's have a look into data and some bugs\n",
        "df.dtypes"
      ],
      "metadata": {
        "colab": {
          "base_uri": "https://localhost:8080/"
        },
        "id": "3P7fx2bmsfiI",
        "outputId": "ec9b3001-52ba-4edf-9b18-31f44b3fd8e0"
      },
      "execution_count": 50,
      "outputs": [
        {
          "output_type": "execute_result",
          "data": {
            "text/plain": [
              "ID          int64\n",
              "Name       object\n",
              "Sex        object\n",
              "Age       float64\n",
              "Height    float64\n",
              "Weight    float64\n",
              "Team       object\n",
              "NOC        object\n",
              "Games      object\n",
              "Year      float64\n",
              "Season     object\n",
              "City       object\n",
              "Sport      object\n",
              "Event      object\n",
              "Medal      object\n",
              "dtype: object"
            ]
          },
          "metadata": {},
          "execution_count": 50
        }
      ]
    },
    {
      "cell_type": "code",
      "source": [
        "# firstly, let's explore numeric data\n",
        "df.describe()"
      ],
      "metadata": {
        "colab": {
          "base_uri": "https://localhost:8080/",
          "height": 291
        },
        "id": "XQoZzNgFJibP",
        "outputId": "cc987111-f82d-4f03-ee1f-b26c953c1b04"
      },
      "execution_count": 51,
      "outputs": [
        {
          "output_type": "execute_result",
          "data": {
            "text/plain": [
              "                  ID            Age         Height         Weight  \\\n",
              "count  477276.000000  467800.000000  417104.000000  414400.000000   \n",
              "mean    68407.344352      25.336347     175.355669      70.695408   \n",
              "std     39011.542815       6.022690      10.535285      14.344735   \n",
              "min         1.000000      10.000000     127.000000       7.000000   \n",
              "25%     34887.000000      21.000000     168.000000      60.000000   \n",
              "50%     68395.000000      24.000000     175.000000      70.000000   \n",
              "75%    102186.250000      28.000000     183.000000      79.000000   \n",
              "max    135571.000000     240.000000     340.000000     214.000000   \n",
              "\n",
              "                Year  \n",
              "count  477266.000000  \n",
              "mean     1983.257764  \n",
              "std        26.710233  \n",
              "min      1896.000000  \n",
              "25%      1968.000000  \n",
              "50%      1988.000000  \n",
              "75%      2004.000000  \n",
              "max      2016.000000  "
            ],
            "text/html": [
              "\n",
              "  <div id=\"df-d867e7ed-b7ff-43a7-86cc-c63377b6cbce\">\n",
              "    <div class=\"colab-df-container\">\n",
              "      <div>\n",
              "<style scoped>\n",
              "    .dataframe tbody tr th:only-of-type {\n",
              "        vertical-align: middle;\n",
              "    }\n",
              "\n",
              "    .dataframe tbody tr th {\n",
              "        vertical-align: top;\n",
              "    }\n",
              "\n",
              "    .dataframe thead th {\n",
              "        text-align: right;\n",
              "    }\n",
              "</style>\n",
              "<table border=\"1\" class=\"dataframe\">\n",
              "  <thead>\n",
              "    <tr style=\"text-align: right;\">\n",
              "      <th></th>\n",
              "      <th>ID</th>\n",
              "      <th>Age</th>\n",
              "      <th>Height</th>\n",
              "      <th>Weight</th>\n",
              "      <th>Year</th>\n",
              "    </tr>\n",
              "  </thead>\n",
              "  <tbody>\n",
              "    <tr>\n",
              "      <th>count</th>\n",
              "      <td>477276.000000</td>\n",
              "      <td>467800.000000</td>\n",
              "      <td>417104.000000</td>\n",
              "      <td>414400.000000</td>\n",
              "      <td>477266.000000</td>\n",
              "    </tr>\n",
              "    <tr>\n",
              "      <th>mean</th>\n",
              "      <td>68407.344352</td>\n",
              "      <td>25.336347</td>\n",
              "      <td>175.355669</td>\n",
              "      <td>70.695408</td>\n",
              "      <td>1983.257764</td>\n",
              "    </tr>\n",
              "    <tr>\n",
              "      <th>std</th>\n",
              "      <td>39011.542815</td>\n",
              "      <td>6.022690</td>\n",
              "      <td>10.535285</td>\n",
              "      <td>14.344735</td>\n",
              "      <td>26.710233</td>\n",
              "    </tr>\n",
              "    <tr>\n",
              "      <th>min</th>\n",
              "      <td>1.000000</td>\n",
              "      <td>10.000000</td>\n",
              "      <td>127.000000</td>\n",
              "      <td>7.000000</td>\n",
              "      <td>1896.000000</td>\n",
              "    </tr>\n",
              "    <tr>\n",
              "      <th>25%</th>\n",
              "      <td>34887.000000</td>\n",
              "      <td>21.000000</td>\n",
              "      <td>168.000000</td>\n",
              "      <td>60.000000</td>\n",
              "      <td>1968.000000</td>\n",
              "    </tr>\n",
              "    <tr>\n",
              "      <th>50%</th>\n",
              "      <td>68395.000000</td>\n",
              "      <td>24.000000</td>\n",
              "      <td>175.000000</td>\n",
              "      <td>70.000000</td>\n",
              "      <td>1988.000000</td>\n",
              "    </tr>\n",
              "    <tr>\n",
              "      <th>75%</th>\n",
              "      <td>102186.250000</td>\n",
              "      <td>28.000000</td>\n",
              "      <td>183.000000</td>\n",
              "      <td>79.000000</td>\n",
              "      <td>2004.000000</td>\n",
              "    </tr>\n",
              "    <tr>\n",
              "      <th>max</th>\n",
              "      <td>135571.000000</td>\n",
              "      <td>240.000000</td>\n",
              "      <td>340.000000</td>\n",
              "      <td>214.000000</td>\n",
              "      <td>2016.000000</td>\n",
              "    </tr>\n",
              "  </tbody>\n",
              "</table>\n",
              "</div>\n",
              "      <button class=\"colab-df-convert\" onclick=\"convertToInteractive('df-d867e7ed-b7ff-43a7-86cc-c63377b6cbce')\"\n",
              "              title=\"Convert this dataframe to an interactive table.\"\n",
              "              style=\"display:none;\">\n",
              "        \n",
              "  <svg xmlns=\"http://www.w3.org/2000/svg\" height=\"24px\"viewBox=\"0 0 24 24\"\n",
              "       width=\"24px\">\n",
              "    <path d=\"M0 0h24v24H0V0z\" fill=\"none\"/>\n",
              "    <path d=\"M18.56 5.44l.94 2.06.94-2.06 2.06-.94-2.06-.94-.94-2.06-.94 2.06-2.06.94zm-11 1L8.5 8.5l.94-2.06 2.06-.94-2.06-.94L8.5 2.5l-.94 2.06-2.06.94zm10 10l.94 2.06.94-2.06 2.06-.94-2.06-.94-.94-2.06-.94 2.06-2.06.94z\"/><path d=\"M17.41 7.96l-1.37-1.37c-.4-.4-.92-.59-1.43-.59-.52 0-1.04.2-1.43.59L10.3 9.45l-7.72 7.72c-.78.78-.78 2.05 0 2.83L4 21.41c.39.39.9.59 1.41.59.51 0 1.02-.2 1.41-.59l7.78-7.78 2.81-2.81c.8-.78.8-2.07 0-2.86zM5.41 20L4 18.59l7.72-7.72 1.47 1.35L5.41 20z\"/>\n",
              "  </svg>\n",
              "      </button>\n",
              "      \n",
              "  <style>\n",
              "    .colab-df-container {\n",
              "      display:flex;\n",
              "      flex-wrap:wrap;\n",
              "      gap: 12px;\n",
              "    }\n",
              "\n",
              "    .colab-df-convert {\n",
              "      background-color: #E8F0FE;\n",
              "      border: none;\n",
              "      border-radius: 50%;\n",
              "      cursor: pointer;\n",
              "      display: none;\n",
              "      fill: #1967D2;\n",
              "      height: 32px;\n",
              "      padding: 0 0 0 0;\n",
              "      width: 32px;\n",
              "    }\n",
              "\n",
              "    .colab-df-convert:hover {\n",
              "      background-color: #E2EBFA;\n",
              "      box-shadow: 0px 1px 2px rgba(60, 64, 67, 0.3), 0px 1px 3px 1px rgba(60, 64, 67, 0.15);\n",
              "      fill: #174EA6;\n",
              "    }\n",
              "\n",
              "    [theme=dark] .colab-df-convert {\n",
              "      background-color: #3B4455;\n",
              "      fill: #D2E3FC;\n",
              "    }\n",
              "\n",
              "    [theme=dark] .colab-df-convert:hover {\n",
              "      background-color: #434B5C;\n",
              "      box-shadow: 0px 1px 3px 1px rgba(0, 0, 0, 0.15);\n",
              "      filter: drop-shadow(0px 1px 2px rgba(0, 0, 0, 0.3));\n",
              "      fill: #FFFFFF;\n",
              "    }\n",
              "  </style>\n",
              "\n",
              "      <script>\n",
              "        const buttonEl =\n",
              "          document.querySelector('#df-d867e7ed-b7ff-43a7-86cc-c63377b6cbce button.colab-df-convert');\n",
              "        buttonEl.style.display =\n",
              "          google.colab.kernel.accessAllowed ? 'block' : 'none';\n",
              "\n",
              "        async function convertToInteractive(key) {\n",
              "          const element = document.querySelector('#df-d867e7ed-b7ff-43a7-86cc-c63377b6cbce');\n",
              "          const dataTable =\n",
              "            await google.colab.kernel.invokeFunction('convertToInteractive',\n",
              "                                                     [key], {});\n",
              "          if (!dataTable) return;\n",
              "\n",
              "          const docLinkHtml = 'Like what you see? Visit the ' +\n",
              "            '<a target=\"_blank\" href=https://colab.research.google.com/notebooks/data_table.ipynb>data table notebook</a>'\n",
              "            + ' to learn more about interactive tables.';\n",
              "          element.innerHTML = '';\n",
              "          dataTable['output_type'] = 'display_data';\n",
              "          await google.colab.output.renderOutput(dataTable, element);\n",
              "          const docLink = document.createElement('div');\n",
              "          docLink.innerHTML = docLinkHtml;\n",
              "          element.appendChild(docLink);\n",
              "        }\n",
              "      </script>\n",
              "    </div>\n",
              "  </div>\n",
              "  "
            ]
          },
          "metadata": {},
          "execution_count": 51
        }
      ]
    },
    {
      "cell_type": "code",
      "source": [
        "# as we can see there are some inhumane outliers\n",
        "sns.boxplot(data=df.loc[:, ['Age', 'Height', 'Weight']])\n",
        "plt.title('Physical parameters at Olympics 1896-2016: raw data')"
      ],
      "metadata": {
        "colab": {
          "base_uri": "https://localhost:8080/",
          "height": 296
        },
        "id": "Vj7xThVZJw6m",
        "outputId": "48e4b4dc-7fb2-4fbc-ef68-ddd1f67d906f"
      },
      "execution_count": 52,
      "outputs": [
        {
          "output_type": "execute_result",
          "data": {
            "text/plain": [
              "Text(0.5, 1.0, 'Physical parameters at Olympics 1896-2016: raw data')"
            ]
          },
          "metadata": {},
          "execution_count": 52
        },
        {
          "output_type": "display_data",
          "data": {
            "text/plain": [
              "<Figure size 432x288 with 1 Axes>"
            ],
            "image/png": "[encoded data removed]"
          },
          "metadata": {
            "needs_background": "light"
          }
        }
      ]
    },
    {
      "cell_type": "markdown",
      "source": [
        "❌WARNING❌ \n",
        "\n",
        "I don't know why but my filter cuts more data than is needed. Please, be aware of that during the grading"
      ],
      "metadata": {
        "id": "zBnPTx0Rb_hF"
      }
    },
    {
      "cell_type": "code",
      "source": [
        "len(df.query('(Height < 272) & (Weight > 9) & (Age < 125)'))"
      ],
      "metadata": {
        "colab": {
          "base_uri": "https://localhost:8080/"
        },
        "id": "EiAsjgtq5ucQ",
        "outputId": "07a87a32-70e6-4e9d-ebec-b22417d6473f"
      },
      "execution_count": 53,
      "outputs": [
        {
          "output_type": "execute_result",
          "data": {
            "text/plain": [
              "412322"
            ]
          },
          "metadata": {},
          "execution_count": 53
        }
      ]
    },
    {
      "cell_type": "code",
      "source": [
        "# based on the World's record: the heighest person on Earth was 272 cm tall,\n",
        "# the youngest ever Olympic athlete was 10, and the oldest human died at the age of 125,\n",
        "# a human being of ~6 months weights ~7 kg\n",
        "df = df[(df['Height'] < 272) & (df['Weight'] > 9) & (df['Age'] < 125)]\n",
        "\n",
        "sns.boxplot(data=df.loc[:, ['Age', 'Height', 'Weight']])\n",
        "plt.title('Physical parameters at Olympics 1896-2016: corrected')"
      ],
      "metadata": {
        "colab": {
          "base_uri": "https://localhost:8080/",
          "height": 296
        },
        "id": "5ktGDUovK1H9",
        "outputId": "3543da76-5a8f-4bd4-c5e0-fc506b6e87d9"
      },
      "execution_count": 54,
      "outputs": [
        {
          "output_type": "execute_result",
          "data": {
            "text/plain": [
              "Text(0.5, 1.0, 'Physical parameters at Olympics 1896-2016: corrected')"
            ]
          },
          "metadata": {},
          "execution_count": 54
        },
        {
          "output_type": "display_data",
          "data": {
            "text/plain": [
              "<Figure size 432x288 with 1 Axes>"
            ],
            "image/png": "[encoded data removed]"
          },
          "metadata": {
            "needs_background": "light"
          }
        }
      ]
    },
    {
      "cell_type": "code",
      "source": [
        "# let's have a look now: yeap, now it looks give or take decent\n",
        "df.describe()"
      ],
      "metadata": {
        "colab": {
          "base_uri": "https://localhost:8080/",
          "height": 291
        },
        "id": "L5tLgNnUL_EX",
        "outputId": "88357a14-9304-472e-e042-d83ed5b71d67"
      },
      "execution_count": 55,
      "outputs": [
        {
          "output_type": "execute_result",
          "data": {
            "text/plain": [
              "                  ID            Age         Height         Weight  \\\n",
              "count  412322.000000  412322.000000  412322.000000  412322.000000   \n",
              "mean    68615.802727      25.055466     175.371947      70.688515   \n",
              "std     38996.453974       5.483130      10.546175      14.340563   \n",
              "min         1.000000      11.000000     127.000000      25.000000   \n",
              "25%     35194.000000      21.000000     168.000000      60.000000   \n",
              "50%     68629.000000      24.000000     175.000000      70.000000   \n",
              "75%    102313.000000      28.000000     183.000000      79.000000   \n",
              "max    135571.000000      71.000000     226.000000     214.000000   \n",
              "\n",
              "                Year  \n",
              "count  412316.000000  \n",
              "mean     1989.674483  \n",
              "std        20.130910  \n",
              "min      1896.000000  \n",
              "25%      1976.000000  \n",
              "50%      1992.000000  \n",
              "75%      2006.000000  \n",
              "max      2016.000000  "
            ],
            "text/html": [
              "\n",
              "  <div id=\"df-3fcb33bf-3e43-4e32-aac7-1c6176dcaf5b\">\n",
              "    <div class=\"colab-df-container\">\n",
              "      <div>\n",
              "<style scoped>\n",
              "    .dataframe tbody tr th:only-of-type {\n",
              "        vertical-align: middle;\n",
              "    }\n",
              "\n",
              "    .dataframe tbody tr th {\n",
              "        vertical-align: top;\n",
              "    }\n",
              "\n",
              "    .dataframe thead th {\n",
              "        text-align: right;\n",
              "    }\n",
              "</style>\n",
              "<table border=\"1\" class=\"dataframe\">\n",
              "  <thead>\n",
              "    <tr style=\"text-align: right;\">\n",
              "      <th></th>\n",
              "      <th>ID</th>\n",
              "      <th>Age</th>\n",
              "      <th>Height</th>\n",
              "      <th>Weight</th>\n",
              "      <th>Year</th>\n",
              "    </tr>\n",
              "  </thead>\n",
              "  <tbody>\n",
              "    <tr>\n",
              "      <th>count</th>\n",
              "      <td>412322.000000</td>\n",
              "      <td>412322.000000</td>\n",
              "      <td>412322.000000</td>\n",
              "      <td>412322.000000</td>\n",
              "      <td>412316.000000</td>\n",
              "    </tr>\n",
              "    <tr>\n",
              "      <th>mean</th>\n",
              "      <td>68615.802727</td>\n",
              "      <td>25.055466</td>\n",
              "      <td>175.371947</td>\n",
              "      <td>70.688515</td>\n",
              "      <td>1989.674483</td>\n",
              "    </tr>\n",
              "    <tr>\n",
              "      <th>std</th>\n",
              "      <td>38996.453974</td>\n",
              "      <td>5.483130</td>\n",
              "      <td>10.546175</td>\n",
              "      <td>14.340563</td>\n",
              "      <td>20.130910</td>\n",
              "    </tr>\n",
              "    <tr>\n",
              "      <th>min</th>\n",
              "      <td>1.000000</td>\n",
              "      <td>11.000000</td>\n",
              "      <td>127.000000</td>\n",
              "      <td>25.000000</td>\n",
              "      <td>1896.000000</td>\n",
              "    </tr>\n",
              "    <tr>\n",
              "      <th>25%</th>\n",
              "      <td>35194.000000</td>\n",
              "      <td>21.000000</td>\n",
              "      <td>168.000000</td>\n",
              "      <td>60.000000</td>\n",
              "      <td>1976.000000</td>\n",
              "    </tr>\n",
              "    <tr>\n",
              "      <th>50%</th>\n",
              "      <td>68629.000000</td>\n",
              "      <td>24.000000</td>\n",
              "      <td>175.000000</td>\n",
              "      <td>70.000000</td>\n",
              "      <td>1992.000000</td>\n",
              "    </tr>\n",
              "    <tr>\n",
              "      <th>75%</th>\n",
              "      <td>102313.000000</td>\n",
              "      <td>28.000000</td>\n",
              "      <td>183.000000</td>\n",
              "      <td>79.000000</td>\n",
              "      <td>2006.000000</td>\n",
              "    </tr>\n",
              "    <tr>\n",
              "      <th>max</th>\n",
              "      <td>135571.000000</td>\n",
              "      <td>71.000000</td>\n",
              "      <td>226.000000</td>\n",
              "      <td>214.000000</td>\n",
              "      <td>2016.000000</td>\n",
              "    </tr>\n",
              "  </tbody>\n",
              "</table>\n",
              "</div>\n",
              "      <button class=\"colab-df-convert\" onclick=\"convertToInteractive('df-3fcb33bf-3e43-4e32-aac7-1c6176dcaf5b')\"\n",
              "              title=\"Convert this dataframe to an interactive table.\"\n",
              "              style=\"display:none;\">\n",
              "        \n",
              "  <svg xmlns=\"http://www.w3.org/2000/svg\" height=\"24px\"viewBox=\"0 0 24 24\"\n",
              "       width=\"24px\">\n",
              "    <path d=\"M0 0h24v24H0V0z\" fill=\"none\"/>\n",
              "    <path d=\"M18.56 5.44l.94 2.06.94-2.06 2.06-.94-2.06-.94-.94-2.06-.94 2.06-2.06.94zm-11 1L8.5 8.5l.94-2.06 2.06-.94-2.06-.94L8.5 2.5l-.94 2.06-2.06.94zm10 10l.94 2.06.94-2.06 2.06-.94-2.06-.94-.94-2.06-.94 2.06-2.06.94z\"/><path d=\"M17.41 7.96l-1.37-1.37c-.4-.4-.92-.59-1.43-.59-.52 0-1.04.2-1.43.59L10.3 9.45l-7.72 7.72c-.78.78-.78 2.05 0 2.83L4 21.41c.39.39.9.59 1.41.59.51 0 1.02-.2 1.41-.59l7.78-7.78 2.81-2.81c.8-.78.8-2.07 0-2.86zM5.41 20L4 18.59l7.72-7.72 1.47 1.35L5.41 20z\"/>\n",
              "  </svg>\n",
              "      </button>\n",
              "      \n",
              "  <style>\n",
              "    .colab-df-container {\n",
              "      display:flex;\n",
              "      flex-wrap:wrap;\n",
              "      gap: 12px;\n",
              "    }\n",
              "\n",
              "    .colab-df-convert {\n",
              "      background-color: #E8F0FE;\n",
              "      border: none;\n",
              "      border-radius: 50%;\n",
              "      cursor: pointer;\n",
              "      display: none;\n",
              "      fill: #1967D2;\n",
              "      height: 32px;\n",
              "      padding: 0 0 0 0;\n",
              "      width: 32px;\n",
              "    }\n",
              "\n",
              "    .colab-df-convert:hover {\n",
              "      background-color: #E2EBFA;\n",
              "      box-shadow: 0px 1px 2px rgba(60, 64, 67, 0.3), 0px 1px 3px 1px rgba(60, 64, 67, 0.15);\n",
              "      fill: #174EA6;\n",
              "    }\n",
              "\n",
              "    [theme=dark] .colab-df-convert {\n",
              "      background-color: #3B4455;\n",
              "      fill: #D2E3FC;\n",
              "    }\n",
              "\n",
              "    [theme=dark] .colab-df-convert:hover {\n",
              "      background-color: #434B5C;\n",
              "      box-shadow: 0px 1px 3px 1px rgba(0, 0, 0, 0.15);\n",
              "      filter: drop-shadow(0px 1px 2px rgba(0, 0, 0, 0.3));\n",
              "      fill: #FFFFFF;\n",
              "    }\n",
              "  </style>\n",
              "\n",
              "      <script>\n",
              "        const buttonEl =\n",
              "          document.querySelector('#df-3fcb33bf-3e43-4e32-aac7-1c6176dcaf5b button.colab-df-convert');\n",
              "        buttonEl.style.display =\n",
              "          google.colab.kernel.accessAllowed ? 'block' : 'none';\n",
              "\n",
              "        async function convertToInteractive(key) {\n",
              "          const element = document.querySelector('#df-3fcb33bf-3e43-4e32-aac7-1c6176dcaf5b');\n",
              "          const dataTable =\n",
              "            await google.colab.kernel.invokeFunction('convertToInteractive',\n",
              "                                                     [key], {});\n",
              "          if (!dataTable) return;\n",
              "\n",
              "          const docLinkHtml = 'Like what you see? Visit the ' +\n",
              "            '<a target=\"_blank\" href=https://colab.research.google.com/notebooks/data_table.ipynb>data table notebook</a>'\n",
              "            + ' to learn more about interactive tables.';\n",
              "          element.innerHTML = '';\n",
              "          dataTable['output_type'] = 'display_data';\n",
              "          await google.colab.output.renderOutput(dataTable, element);\n",
              "          const docLink = document.createElement('div');\n",
              "          docLink.innerHTML = docLinkHtml;\n",
              "          element.appendChild(docLink);\n",
              "        }\n",
              "      </script>\n",
              "    </div>\n",
              "  </div>\n",
              "  "
            ]
          },
          "metadata": {},
          "execution_count": 55
        }
      ]
    },
    {
      "cell_type": "code",
      "source": [
        "# moreover, let's check string parameters\n",
        "for i in df.columns:\n",
        "  if isinstance(df[i].iloc[0], str):\n",
        "    print(f'{i}: \\t {list(set(df[i]))[:10]}')"
      ],
      "metadata": {
        "colab": {
          "base_uri": "https://localhost:8080/"
        },
        "id": "KlrwCNdYNgw_",
        "outputId": "bb0d3960-290b-4ac9-9955-3ca268663dc6"
      },
      "execution_count": 56,
      "outputs": [
        {
          "output_type": "stream",
          "name": "stdout",
          "text": [
            "Name: \t ['Danielle Stewart', 'Wandee Kameaim', 'Li Yong-Nam', 'Adrianti Firdasari', 'Yoshinori Namiki', 'Graeme Vincent Fell', 'Isaack Mabushi', 'Sharon Lee Black', 'Ulla Zirne', 'Maria Pangalou']\n",
            "Sex: \t ['M', 'F', 'G']\n",
            "Team: \t ['Lasha', 'Grifone', 'Chaje II', 'Rampage', 'Solos Carex', 'Greenoaks Dundee', 'Dow Jones', 'Rififi', 'Umberta V', 'Slovenia']\n",
            "NOC: \t ['VNM', nan, 'GHA', 'SKN', 'YEM', 'ITA', 'BIH', 'NZL', 'PAK', 'FRG']\n",
            "Games: \t [nan, '2012 Summer', '2008 Summer', '1984 Winter', '1904 Summer', '1932 Summer', '1906 Summer', '1980 Summer', '1984 Summer', '2004 Summer']\n",
            "Season: \t [nan, 'Winter', 'Summer']\n",
            "City: \t [nan, 'Rio de Janeiro', 'Moskva', 'Munich', 'Barcelona', 'Innsbruck', 'London', 'Lake Placid', 'Stockholm', 'Torino']\n",
            "Sport: \t [nan, 'Tug-Of-War', 'Rugby Sevens', 'Athletics', 'Skeleton', 'Short Track Speed Skating', 'Water Polo', 'Handball', 'Gymnastics', 'Synchronized Swimming']\n",
            "Event: \t [nan, \"Water Polo Men's Water Polo\", \"Biathlon Women's 7.5 kilometres Sprint\", \"Speed Skating Men's 1,500 metres\", \"Freestyle Skiing Men's Moguls\", 'Shooting Mixed Trap', \"Cycling Men's Individual Time Trial\", \"Swimming Men's 4 x 100 metres Freestyle Relay\", \"Swimming Men's 10 kilometres Open Water\", \"Equestrianism Men's Jumping, Individual\"]\n"
          ]
        }
      ]
    },
    {
      "cell_type": "code",
      "source": [
        "# probably a type as it appears only once\n",
        "df[df['Sex'] == 'G']"
      ],
      "metadata": {
        "colab": {
          "base_uri": "https://localhost:8080/",
          "height": 78
        },
        "id": "QQKndTTGQGUg",
        "outputId": "9c531c75-b5f6-497a-92db-f37425946902"
      },
      "execution_count": 57,
      "outputs": [
        {
          "output_type": "execute_result",
          "data": {
            "text/plain": [
              "       ID        Name Sex   Age  Height  Weight            Team  NOC  \\\n",
              "42  79609  Pavel Mike   G  22.0   182.0    79.0  Czechoslovakia  TCH   \n",
              "\n",
              "          Games    Year  Season    City     Sport                    Event  \\\n",
              "42  1972 Summer  1972.0  Summer  Munich  Handball  Handball Men's Handball   \n",
              "\n",
              "     Medal  \n",
              "42  Silver  "
            ],
            "text/html": [
              "\n",
              "  <div id=\"df-d487e12d-ecc9-411c-80de-7d956ba140a5\">\n",
              "    <div class=\"colab-df-container\">\n",
              "      <div>\n",
              "<style scoped>\n",
              "    .dataframe tbody tr th:only-of-type {\n",
              "        vertical-align: middle;\n",
              "    }\n",
              "\n",
              "    .dataframe tbody tr th {\n",
              "        vertical-align: top;\n",
              "    }\n",
              "\n",
              "    .dataframe thead th {\n",
              "        text-align: right;\n",
              "    }\n",
              "</style>\n",
              "<table border=\"1\" class=\"dataframe\">\n",
              "  <thead>\n",
              "    <tr style=\"text-align: right;\">\n",
              "      <th></th>\n",
              "      <th>ID</th>\n",
              "      <th>Name</th>\n",
              "      <th>Sex</th>\n",
              "      <th>Age</th>\n",
              "      <th>Height</th>\n",
              "      <th>Weight</th>\n",
              "      <th>Team</th>\n",
              "      <th>NOC</th>\n",
              "      <th>Games</th>\n",
              "      <th>Year</th>\n",
              "      <th>Season</th>\n",
              "      <th>City</th>\n",
              "      <th>Sport</th>\n",
              "      <th>Event</th>\n",
              "      <th>Medal</th>\n",
              "    </tr>\n",
              "  </thead>\n",
              "  <tbody>\n",
              "    <tr>\n",
              "      <th>42</th>\n",
              "      <td>79609</td>\n",
              "      <td>Pavel Mike</td>\n",
              "      <td>G</td>\n",
              "      <td>22.0</td>\n",
              "      <td>182.0</td>\n",
              "      <td>79.0</td>\n",
              "      <td>Czechoslovakia</td>\n",
              "      <td>TCH</td>\n",
              "      <td>1972 Summer</td>\n",
              "      <td>1972.0</td>\n",
              "      <td>Summer</td>\n",
              "      <td>Munich</td>\n",
              "      <td>Handball</td>\n",
              "      <td>Handball Men's Handball</td>\n",
              "      <td>Silver</td>\n",
              "    </tr>\n",
              "  </tbody>\n",
              "</table>\n",
              "</div>\n",
              "      <button class=\"colab-df-convert\" onclick=\"convertToInteractive('df-d487e12d-ecc9-411c-80de-7d956ba140a5')\"\n",
              "              title=\"Convert this dataframe to an interactive table.\"\n",
              "              style=\"display:none;\">\n",
              "        \n",
              "  <svg xmlns=\"http://www.w3.org/2000/svg\" height=\"24px\"viewBox=\"0 0 24 24\"\n",
              "       width=\"24px\">\n",
              "    <path d=\"M0 0h24v24H0V0z\" fill=\"none\"/>\n",
              "    <path d=\"M18.56 5.44l.94 2.06.94-2.06 2.06-.94-2.06-.94-.94-2.06-.94 2.06-2.06.94zm-11 1L8.5 8.5l.94-2.06 2.06-.94-2.06-.94L8.5 2.5l-.94 2.06-2.06.94zm10 10l.94 2.06.94-2.06 2.06-.94-2.06-.94-.94-2.06-.94 2.06-2.06.94z\"/><path d=\"M17.41 7.96l-1.37-1.37c-.4-.4-.92-.59-1.43-.59-.52 0-1.04.2-1.43.59L10.3 9.45l-7.72 7.72c-.78.78-.78 2.05 0 2.83L4 21.41c.39.39.9.59 1.41.59.51 0 1.02-.2 1.41-.59l7.78-7.78 2.81-2.81c.8-.78.8-2.07 0-2.86zM5.41 20L4 18.59l7.72-7.72 1.47 1.35L5.41 20z\"/>\n",
              "  </svg>\n",
              "      </button>\n",
              "      \n",
              "  <style>\n",
              "    .colab-df-container {\n",
              "      display:flex;\n",
              "      flex-wrap:wrap;\n",
              "      gap: 12px;\n",
              "    }\n",
              "\n",
              "    .colab-df-convert {\n",
              "      background-color: #E8F0FE;\n",
              "      border: none;\n",
              "      border-radius: 50%;\n",
              "      cursor: pointer;\n",
              "      display: none;\n",
              "      fill: #1967D2;\n",
              "      height: 32px;\n",
              "      padding: 0 0 0 0;\n",
              "      width: 32px;\n",
              "    }\n",
              "\n",
              "    .colab-df-convert:hover {\n",
              "      background-color: #E2EBFA;\n",
              "      box-shadow: 0px 1px 2px rgba(60, 64, 67, 0.3), 0px 1px 3px 1px rgba(60, 64, 67, 0.15);\n",
              "      fill: #174EA6;\n",
              "    }\n",
              "\n",
              "    [theme=dark] .colab-df-convert {\n",
              "      background-color: #3B4455;\n",
              "      fill: #D2E3FC;\n",
              "    }\n",
              "\n",
              "    [theme=dark] .colab-df-convert:hover {\n",
              "      background-color: #434B5C;\n",
              "      box-shadow: 0px 1px 3px 1px rgba(0, 0, 0, 0.15);\n",
              "      filter: drop-shadow(0px 1px 2px rgba(0, 0, 0, 0.3));\n",
              "      fill: #FFFFFF;\n",
              "    }\n",
              "  </style>\n",
              "\n",
              "      <script>\n",
              "        const buttonEl =\n",
              "          document.querySelector('#df-d487e12d-ecc9-411c-80de-7d956ba140a5 button.colab-df-convert');\n",
              "        buttonEl.style.display =\n",
              "          google.colab.kernel.accessAllowed ? 'block' : 'none';\n",
              "\n",
              "        async function convertToInteractive(key) {\n",
              "          const element = document.querySelector('#df-d487e12d-ecc9-411c-80de-7d956ba140a5');\n",
              "          const dataTable =\n",
              "            await google.colab.kernel.invokeFunction('convertToInteractive',\n",
              "                                                     [key], {});\n",
              "          if (!dataTable) return;\n",
              "\n",
              "          const docLinkHtml = 'Like what you see? Visit the ' +\n",
              "            '<a target=\"_blank\" href=https://colab.research.google.com/notebooks/data_table.ipynb>data table notebook</a>'\n",
              "            + ' to learn more about interactive tables.';\n",
              "          element.innerHTML = '';\n",
              "          dataTable['output_type'] = 'display_data';\n",
              "          await google.colab.output.renderOutput(dataTable, element);\n",
              "          const docLink = document.createElement('div');\n",
              "          docLink.innerHTML = docLinkHtml;\n",
              "          element.appendChild(docLink);\n",
              "        }\n",
              "      </script>\n",
              "    </div>\n",
              "  </div>\n",
              "  "
            ]
          },
          "metadata": {},
          "execution_count": 57
        }
      ]
    },
    {
      "cell_type": "code",
      "source": [
        "# let's correct that. Yeap, a type since there were a such sportsman with an ordinary sex\n",
        "df.loc[df.Name == 'Pavel Mike', 'Sex'] = 'M'\n",
        "df[df['Name'] == 'Pavel Mike']"
      ],
      "metadata": {
        "id": "_GT1KDT1Z-3a",
        "colab": {
          "base_uri": "https://localhost:8080/",
          "height": 269
        },
        "outputId": "5cd1dba4-8c7e-4d39-e7c5-0e2835edd193"
      },
      "execution_count": 85,
      "outputs": [
        {
          "output_type": "stream",
          "name": "stderr",
          "text": [
            "/usr/local/lib/python3.7/dist-packages/pandas/core/indexing.py:1817: SettingWithCopyWarning: \n",
            "A value is trying to be set on a copy of a slice from a DataFrame.\n",
            "Try using .loc[row_indexer,col_indexer] = value instead\n",
            "\n",
            "See the caveats in the documentation: https://pandas.pydata.org/pandas-docs/stable/user_guide/indexing.html#returning-a-view-versus-a-copy\n",
            "  self._setitem_single_column(loc, value, pi)\n"
          ]
        },
        {
          "output_type": "execute_result",
          "data": {
            "text/plain": [
              "          ID        Name Sex   Age  Height  Weight            Team  NOC  \\\n",
              "42     79609  Pavel Mike   M  22.0   182.0    79.0  Czechoslovakia  TCH   \n",
              "43     79609  Pavel Mike   M  25.0   182.0    79.0  Czechoslovakia  TCH   \n",
              "34649  79609  Pavel Mike   M  22.0   182.0    79.0  Czechoslovakia  TCH   \n",
              "34650  79609  Pavel Mike   M  25.0   182.0    79.0  Czechoslovakia  TCH   \n",
              "\n",
              "             Games    Year  Season      City     Sport  \\\n",
              "42     1972 Summer  1972.0  Summer    Munich  Handball   \n",
              "43     1976 Summer  1976.0  Summer  Montreal  Handball   \n",
              "34649  1972 Summer  1972.0  Summer    Munich  Handball   \n",
              "34650  1976 Summer  1976.0  Summer  Montreal  Handball   \n",
              "\n",
              "                         Event   Medal  \n",
              "42     Handball Men's Handball  Silver  \n",
              "43     Handball Men's Handball     NaN  \n",
              "34649  Handball Men's Handball  Silver  \n",
              "34650  Handball Men's Handball     NaN  "
            ],
            "text/html": [
              "\n",
              "  <div id=\"df-59fea57f-c5f2-4853-9a28-4c3455040b59\">\n",
              "    <div class=\"colab-df-container\">\n",
              "      <div>\n",
              "<style scoped>\n",
              "    .dataframe tbody tr th:only-of-type {\n",
              "        vertical-align: middle;\n",
              "    }\n",
              "\n",
              "    .dataframe tbody tr th {\n",
              "        vertical-align: top;\n",
              "    }\n",
              "\n",
              "    .dataframe thead th {\n",
              "        text-align: right;\n",
              "    }\n",
              "</style>\n",
              "<table border=\"1\" class=\"dataframe\">\n",
              "  <thead>\n",
              "    <tr style=\"text-align: right;\">\n",
              "      <th></th>\n",
              "      <th>ID</th>\n",
              "      <th>Name</th>\n",
              "      <th>Sex</th>\n",
              "      <th>Age</th>\n",
              "      <th>Height</th>\n",
              "      <th>Weight</th>\n",
              "      <th>Team</th>\n",
              "      <th>NOC</th>\n",
              "      <th>Games</th>\n",
              "      <th>Year</th>\n",
              "      <th>Season</th>\n",
              "      <th>City</th>\n",
              "      <th>Sport</th>\n",
              "      <th>Event</th>\n",
              "      <th>Medal</th>\n",
              "    </tr>\n",
              "  </thead>\n",
              "  <tbody>\n",
              "    <tr>\n",
              "      <th>42</th>\n",
              "      <td>79609</td>\n",
              "      <td>Pavel Mike</td>\n",
              "      <td>M</td>\n",
              "      <td>22.0</td>\n",
              "      <td>182.0</td>\n",
              "      <td>79.0</td>\n",
              "      <td>Czechoslovakia</td>\n",
              "      <td>TCH</td>\n",
              "      <td>1972 Summer</td>\n",
              "      <td>1972.0</td>\n",
              "      <td>Summer</td>\n",
              "      <td>Munich</td>\n",
              "      <td>Handball</td>\n",
              "      <td>Handball Men's Handball</td>\n",
              "      <td>Silver</td>\n",
              "    </tr>\n",
              "    <tr>\n",
              "      <th>43</th>\n",
              "      <td>79609</td>\n",
              "      <td>Pavel Mike</td>\n",
              "      <td>M</td>\n",
              "      <td>25.0</td>\n",
              "      <td>182.0</td>\n",
              "      <td>79.0</td>\n",
              "      <td>Czechoslovakia</td>\n",
              "      <td>TCH</td>\n",
              "      <td>1976 Summer</td>\n",
              "      <td>1976.0</td>\n",
              "      <td>Summer</td>\n",
              "      <td>Montreal</td>\n",
              "      <td>Handball</td>\n",
              "      <td>Handball Men's Handball</td>\n",
              "      <td>NaN</td>\n",
              "    </tr>\n",
              "    <tr>\n",
              "      <th>34649</th>\n",
              "      <td>79609</td>\n",
              "      <td>Pavel Mike</td>\n",
              "      <td>M</td>\n",
              "      <td>22.0</td>\n",
              "      <td>182.0</td>\n",
              "      <td>79.0</td>\n",
              "      <td>Czechoslovakia</td>\n",
              "      <td>TCH</td>\n",
              "      <td>1972 Summer</td>\n",
              "      <td>1972.0</td>\n",
              "      <td>Summer</td>\n",
              "      <td>Munich</td>\n",
              "      <td>Handball</td>\n",
              "      <td>Handball Men's Handball</td>\n",
              "      <td>Silver</td>\n",
              "    </tr>\n",
              "    <tr>\n",
              "      <th>34650</th>\n",
              "      <td>79609</td>\n",
              "      <td>Pavel Mike</td>\n",
              "      <td>M</td>\n",
              "      <td>25.0</td>\n",
              "      <td>182.0</td>\n",
              "      <td>79.0</td>\n",
              "      <td>Czechoslovakia</td>\n",
              "      <td>TCH</td>\n",
              "      <td>1976 Summer</td>\n",
              "      <td>1976.0</td>\n",
              "      <td>Summer</td>\n",
              "      <td>Montreal</td>\n",
              "      <td>Handball</td>\n",
              "      <td>Handball Men's Handball</td>\n",
              "      <td>NaN</td>\n",
              "    </tr>\n",
              "  </tbody>\n",
              "</table>\n",
              "</div>\n",
              "      <button class=\"colab-df-convert\" onclick=\"convertToInteractive('df-59fea57f-c5f2-4853-9a28-4c3455040b59')\"\n",
              "              title=\"Convert this dataframe to an interactive table.\"\n",
              "              style=\"display:none;\">\n",
              "        \n",
              "  <svg xmlns=\"http://www.w3.org/2000/svg\" height=\"24px\"viewBox=\"0 0 24 24\"\n",
              "       width=\"24px\">\n",
              "    <path d=\"M0 0h24v24H0V0z\" fill=\"none\"/>\n",
              "    <path d=\"M18.56 5.44l.94 2.06.94-2.06 2.06-.94-2.06-.94-.94-2.06-.94 2.06-2.06.94zm-11 1L8.5 8.5l.94-2.06 2.06-.94-2.06-.94L8.5 2.5l-.94 2.06-2.06.94zm10 10l.94 2.06.94-2.06 2.06-.94-2.06-.94-.94-2.06-.94 2.06-2.06.94z\"/><path d=\"M17.41 7.96l-1.37-1.37c-.4-.4-.92-.59-1.43-.59-.52 0-1.04.2-1.43.59L10.3 9.45l-7.72 7.72c-.78.78-.78 2.05 0 2.83L4 21.41c.39.39.9.59 1.41.59.51 0 1.02-.2 1.41-.59l7.78-7.78 2.81-2.81c.8-.78.8-2.07 0-2.86zM5.41 20L4 18.59l7.72-7.72 1.47 1.35L5.41 20z\"/>\n",
              "  </svg>\n",
              "      </button>\n",
              "      \n",
              "  <style>\n",
              "    .colab-df-container {\n",
              "      display:flex;\n",
              "      flex-wrap:wrap;\n",
              "      gap: 12px;\n",
              "    }\n",
              "\n",
              "    .colab-df-convert {\n",
              "      background-color: #E8F0FE;\n",
              "      border: none;\n",
              "      border-radius: 50%;\n",
              "      cursor: pointer;\n",
              "      display: none;\n",
              "      fill: #1967D2;\n",
              "      height: 32px;\n",
              "      padding: 0 0 0 0;\n",
              "      width: 32px;\n",
              "    }\n",
              "\n",
              "    .colab-df-convert:hover {\n",
              "      background-color: #E2EBFA;\n",
              "      box-shadow: 0px 1px 2px rgba(60, 64, 67, 0.3), 0px 1px 3px 1px rgba(60, 64, 67, 0.15);\n",
              "      fill: #174EA6;\n",
              "    }\n",
              "\n",
              "    [theme=dark] .colab-df-convert {\n",
              "      background-color: #3B4455;\n",
              "      fill: #D2E3FC;\n",
              "    }\n",
              "\n",
              "    [theme=dark] .colab-df-convert:hover {\n",
              "      background-color: #434B5C;\n",
              "      box-shadow: 0px 1px 3px 1px rgba(0, 0, 0, 0.15);\n",
              "      filter: drop-shadow(0px 1px 2px rgba(0, 0, 0, 0.3));\n",
              "      fill: #FFFFFF;\n",
              "    }\n",
              "  </style>\n",
              "\n",
              "      <script>\n",
              "        const buttonEl =\n",
              "          document.querySelector('#df-59fea57f-c5f2-4853-9a28-4c3455040b59 button.colab-df-convert');\n",
              "        buttonEl.style.display =\n",
              "          google.colab.kernel.accessAllowed ? 'block' : 'none';\n",
              "\n",
              "        async function convertToInteractive(key) {\n",
              "          const element = document.querySelector('#df-59fea57f-c5f2-4853-9a28-4c3455040b59');\n",
              "          const dataTable =\n",
              "            await google.colab.kernel.invokeFunction('convertToInteractive',\n",
              "                                                     [key], {});\n",
              "          if (!dataTable) return;\n",
              "\n",
              "          const docLinkHtml = 'Like what you see? Visit the ' +\n",
              "            '<a target=\"_blank\" href=https://colab.research.google.com/notebooks/data_table.ipynb>data table notebook</a>'\n",
              "            + ' to learn more about interactive tables.';\n",
              "          element.innerHTML = '';\n",
              "          dataTable['output_type'] = 'display_data';\n",
              "          await google.colab.output.renderOutput(dataTable, element);\n",
              "          const docLink = document.createElement('div');\n",
              "          docLink.innerHTML = docLinkHtml;\n",
              "          element.appendChild(docLink);\n",
              "        }\n",
              "      </script>\n",
              "    </div>\n",
              "  </div>\n",
              "  "
            ]
          },
          "metadata": {},
          "execution_count": 85
        }
      ]
    },
    {
      "cell_type": "code",
      "source": [
        "# let's check again if something left. Nope, no worries\n",
        "set(df['Sex'])"
      ],
      "metadata": {
        "colab": {
          "base_uri": "https://localhost:8080/"
        },
        "id": "ty4lSttgd_eq",
        "outputId": "94a12057-d189-4d54-d260-d48342b41120"
      },
      "execution_count": 59,
      "outputs": [
        {
          "output_type": "execute_result",
          "data": {
            "text/plain": [
              "{'F', 'M'}"
            ]
          },
          "metadata": {},
          "execution_count": 59
        }
      ]
    },
    {
      "cell_type": "code",
      "source": [
        "# maybe we can correct some missing values? It seems no ((\n",
        "df[df['Season'] != df['Season']]"
      ],
      "metadata": {
        "colab": {
          "base_uri": "https://localhost:8080/",
          "height": 231
        },
        "id": "dmChtjD4eO5a",
        "outputId": "204079af-7f73-41c6-93b5-f334bc78834e"
      },
      "execution_count": 60,
      "outputs": [
        {
          "output_type": "execute_result",
          "data": {
            "text/plain": [
              "           ID                     Name Sex   Age  Height  Weight      Team  \\\n",
              "22835   12005  Andrea Melissa Blackett   F  24.0   167.0    59.0  Barbados   \n",
              "22557   34727         Carlotta Ferlito   F  17.0   160.0    50.0     Italy   \n",
              "22659   45919              Yuka Harada   F  28.0   170.0    60.0     Japan   \n",
              "34612   12005  Andrea Melissa Blackett   F  24.0   167.0    59.0  Barbados   \n",
              "85910   34727         Carlotta Ferlito   F  17.0   160.0    50.0     Italy   \n",
              "120197  45919              Yuka Harada   F  28.0   170.0    60.0     Japan   \n",
              "\n",
              "        NOC    Games  Year Season City Sport Event Medal  \n",
              "22835   BAR  2000 Su   NaN    NaN  NaN   NaN   NaN   NaN  \n",
              "22557   NaN      NaN   NaN    NaN  NaN   NaN   NaN   NaN  \n",
              "22659    JP      NaN   NaN    NaN  NaN   NaN   NaN   NaN  \n",
              "34612   BAR  2000 Su   NaN    NaN  NaN   NaN   NaN   NaN  \n",
              "85910   NaN      NaN   NaN    NaN  NaN   NaN   NaN   NaN  \n",
              "120197   JP      NaN   NaN    NaN  NaN   NaN   NaN   NaN  "
            ],
            "text/html": [
              "\n",
              "  <div id=\"df-31a16ddb-989d-4149-bc0d-fba71e880b26\">\n",
              "    <div class=\"colab-df-container\">\n",
              "      <div>\n",
              "<style scoped>\n",
              "    .dataframe tbody tr th:only-of-type {\n",
              "        vertical-align: middle;\n",
              "    }\n",
              "\n",
              "    .dataframe tbody tr th {\n",
              "        vertical-align: top;\n",
              "    }\n",
              "\n",
              "    .dataframe thead th {\n",
              "        text-align: right;\n",
              "    }\n",
              "</style>\n",
              "<table border=\"1\" class=\"dataframe\">\n",
              "  <thead>\n",
              "    <tr style=\"text-align: right;\">\n",
              "      <th></th>\n",
              "      <th>ID</th>\n",
              "      <th>Name</th>\n",
              "      <th>Sex</th>\n",
              "      <th>Age</th>\n",
              "      <th>Height</th>\n",
              "      <th>Weight</th>\n",
              "      <th>Team</th>\n",
              "      <th>NOC</th>\n",
              "      <th>Games</th>\n",
              "      <th>Year</th>\n",
              "      <th>Season</th>\n",
              "      <th>City</th>\n",
              "      <th>Sport</th>\n",
              "      <th>Event</th>\n",
              "      <th>Medal</th>\n",
              "    </tr>\n",
              "  </thead>\n",
              "  <tbody>\n",
              "    <tr>\n",
              "      <th>22835</th>\n",
              "      <td>12005</td>\n",
              "      <td>Andrea Melissa Blackett</td>\n",
              "      <td>F</td>\n",
              "      <td>24.0</td>\n",
              "      <td>167.0</td>\n",
              "      <td>59.0</td>\n",
              "      <td>Barbados</td>\n",
              "      <td>BAR</td>\n",
              "      <td>2000 Su</td>\n",
              "      <td>NaN</td>\n",
              "      <td>NaN</td>\n",
              "      <td>NaN</td>\n",
              "      <td>NaN</td>\n",
              "      <td>NaN</td>\n",
              "      <td>NaN</td>\n",
              "    </tr>\n",
              "    <tr>\n",
              "      <th>22557</th>\n",
              "      <td>34727</td>\n",
              "      <td>Carlotta Ferlito</td>\n",
              "      <td>F</td>\n",
              "      <td>17.0</td>\n",
              "      <td>160.0</td>\n",
              "      <td>50.0</td>\n",
              "      <td>Italy</td>\n",
              "      <td>NaN</td>\n",
              "      <td>NaN</td>\n",
              "      <td>NaN</td>\n",
              "      <td>NaN</td>\n",
              "      <td>NaN</td>\n",
              "      <td>NaN</td>\n",
              "      <td>NaN</td>\n",
              "      <td>NaN</td>\n",
              "    </tr>\n",
              "    <tr>\n",
              "      <th>22659</th>\n",
              "      <td>45919</td>\n",
              "      <td>Yuka Harada</td>\n",
              "      <td>F</td>\n",
              "      <td>28.0</td>\n",
              "      <td>170.0</td>\n",
              "      <td>60.0</td>\n",
              "      <td>Japan</td>\n",
              "      <td>JP</td>\n",
              "      <td>NaN</td>\n",
              "      <td>NaN</td>\n",
              "      <td>NaN</td>\n",
              "      <td>NaN</td>\n",
              "      <td>NaN</td>\n",
              "      <td>NaN</td>\n",
              "      <td>NaN</td>\n",
              "    </tr>\n",
              "    <tr>\n",
              "      <th>34612</th>\n",
              "      <td>12005</td>\n",
              "      <td>Andrea Melissa Blackett</td>\n",
              "      <td>F</td>\n",
              "      <td>24.0</td>\n",
              "      <td>167.0</td>\n",
              "      <td>59.0</td>\n",
              "      <td>Barbados</td>\n",
              "      <td>BAR</td>\n",
              "      <td>2000 Su</td>\n",
              "      <td>NaN</td>\n",
              "      <td>NaN</td>\n",
              "      <td>NaN</td>\n",
              "      <td>NaN</td>\n",
              "      <td>NaN</td>\n",
              "      <td>NaN</td>\n",
              "    </tr>\n",
              "    <tr>\n",
              "      <th>85910</th>\n",
              "      <td>34727</td>\n",
              "      <td>Carlotta Ferlito</td>\n",
              "      <td>F</td>\n",
              "      <td>17.0</td>\n",
              "      <td>160.0</td>\n",
              "      <td>50.0</td>\n",
              "      <td>Italy</td>\n",
              "      <td>NaN</td>\n",
              "      <td>NaN</td>\n",
              "      <td>NaN</td>\n",
              "      <td>NaN</td>\n",
              "      <td>NaN</td>\n",
              "      <td>NaN</td>\n",
              "      <td>NaN</td>\n",
              "      <td>NaN</td>\n",
              "    </tr>\n",
              "    <tr>\n",
              "      <th>120197</th>\n",
              "      <td>45919</td>\n",
              "      <td>Yuka Harada</td>\n",
              "      <td>F</td>\n",
              "      <td>28.0</td>\n",
              "      <td>170.0</td>\n",
              "      <td>60.0</td>\n",
              "      <td>Japan</td>\n",
              "      <td>JP</td>\n",
              "      <td>NaN</td>\n",
              "      <td>NaN</td>\n",
              "      <td>NaN</td>\n",
              "      <td>NaN</td>\n",
              "      <td>NaN</td>\n",
              "      <td>NaN</td>\n",
              "      <td>NaN</td>\n",
              "    </tr>\n",
              "  </tbody>\n",
              "</table>\n",
              "</div>\n",
              "      <button class=\"colab-df-convert\" onclick=\"convertToInteractive('df-31a16ddb-989d-4149-bc0d-fba71e880b26')\"\n",
              "              title=\"Convert this dataframe to an interactive table.\"\n",
              "              style=\"display:none;\">\n",
              "        \n",
              "  <svg xmlns=\"http://www.w3.org/2000/svg\" height=\"24px\"viewBox=\"0 0 24 24\"\n",
              "       width=\"24px\">\n",
              "    <path d=\"M0 0h24v24H0V0z\" fill=\"none\"/>\n",
              "    <path d=\"M18.56 5.44l.94 2.06.94-2.06 2.06-.94-2.06-.94-.94-2.06-.94 2.06-2.06.94zm-11 1L8.5 8.5l.94-2.06 2.06-.94-2.06-.94L8.5 2.5l-.94 2.06-2.06.94zm10 10l.94 2.06.94-2.06 2.06-.94-2.06-.94-.94-2.06-.94 2.06-2.06.94z\"/><path d=\"M17.41 7.96l-1.37-1.37c-.4-.4-.92-.59-1.43-.59-.52 0-1.04.2-1.43.59L10.3 9.45l-7.72 7.72c-.78.78-.78 2.05 0 2.83L4 21.41c.39.39.9.59 1.41.59.51 0 1.02-.2 1.41-.59l7.78-7.78 2.81-2.81c.8-.78.8-2.07 0-2.86zM5.41 20L4 18.59l7.72-7.72 1.47 1.35L5.41 20z\"/>\n",
              "  </svg>\n",
              "      </button>\n",
              "      \n",
              "  <style>\n",
              "    .colab-df-container {\n",
              "      display:flex;\n",
              "      flex-wrap:wrap;\n",
              "      gap: 12px;\n",
              "    }\n",
              "\n",
              "    .colab-df-convert {\n",
              "      background-color: #E8F0FE;\n",
              "      border: none;\n",
              "      border-radius: 50%;\n",
              "      cursor: pointer;\n",
              "      display: none;\n",
              "      fill: #1967D2;\n",
              "      height: 32px;\n",
              "      padding: 0 0 0 0;\n",
              "      width: 32px;\n",
              "    }\n",
              "\n",
              "    .colab-df-convert:hover {\n",
              "      background-color: #E2EBFA;\n",
              "      box-shadow: 0px 1px 2px rgba(60, 64, 67, 0.3), 0px 1px 3px 1px rgba(60, 64, 67, 0.15);\n",
              "      fill: #174EA6;\n",
              "    }\n",
              "\n",
              "    [theme=dark] .colab-df-convert {\n",
              "      background-color: #3B4455;\n",
              "      fill: #D2E3FC;\n",
              "    }\n",
              "\n",
              "    [theme=dark] .colab-df-convert:hover {\n",
              "      background-color: #434B5C;\n",
              "      box-shadow: 0px 1px 3px 1px rgba(0, 0, 0, 0.15);\n",
              "      filter: drop-shadow(0px 1px 2px rgba(0, 0, 0, 0.3));\n",
              "      fill: #FFFFFF;\n",
              "    }\n",
              "  </style>\n",
              "\n",
              "      <script>\n",
              "        const buttonEl =\n",
              "          document.querySelector('#df-31a16ddb-989d-4149-bc0d-fba71e880b26 button.colab-df-convert');\n",
              "        buttonEl.style.display =\n",
              "          google.colab.kernel.accessAllowed ? 'block' : 'none';\n",
              "\n",
              "        async function convertToInteractive(key) {\n",
              "          const element = document.querySelector('#df-31a16ddb-989d-4149-bc0d-fba71e880b26');\n",
              "          const dataTable =\n",
              "            await google.colab.kernel.invokeFunction('convertToInteractive',\n",
              "                                                     [key], {});\n",
              "          if (!dataTable) return;\n",
              "\n",
              "          const docLinkHtml = 'Like what you see? Visit the ' +\n",
              "            '<a target=\"_blank\" href=https://colab.research.google.com/notebooks/data_table.ipynb>data table notebook</a>'\n",
              "            + ' to learn more about interactive tables.';\n",
              "          element.innerHTML = '';\n",
              "          dataTable['output_type'] = 'display_data';\n",
              "          await google.colab.output.renderOutput(dataTable, element);\n",
              "          const docLink = document.createElement('div');\n",
              "          docLink.innerHTML = docLinkHtml;\n",
              "          element.appendChild(docLink);\n",
              "        }\n",
              "      </script>\n",
              "    </div>\n",
              "  </div>\n",
              "  "
            ]
          },
          "metadata": {},
          "execution_count": 60
        }
      ]
    },
    {
      "cell_type": "code",
      "source": [
        "# so, let's download it for github\n",
        "df.to_csv('processed_data.csv', index=False)"
      ],
      "metadata": {
        "id": "xeC0jBPWQeLo"
      },
      "execution_count": 61,
      "outputs": []
    },
    {
      "cell_type": "markdown",
      "source": [
        "⛳ I have chosen exactly that approach since it helps to dive into data and explore it a little bit. The alternative method could be to leave it as it is since there are just a outliers per million lines. Moreover, data could be more representative with dropped NaNs."
      ],
      "metadata": {
        "id": "CKQHjc8YmgCM"
      }
    },
    {
      "cell_type": "markdown",
      "source": [
        "### task \\#3: ages of the youngest athletes for both sex at Olympics 1992"
      ],
      "metadata": {
        "id": "M_HNvOSpz69b"
      }
    },
    {
      "cell_type": "code",
      "source": [
        "df[df['Year'] == 1992].groupby(['Sex'])['Age'].min()"
      ],
      "metadata": {
        "colab": {
          "base_uri": "https://localhost:8080/"
        },
        "id": "SLVibMT-evTx",
        "outputId": "6d816ead-8d2e-443e-ccc2-cc0b80a35e3e"
      },
      "execution_count": 62,
      "outputs": [
        {
          "output_type": "execute_result",
          "data": {
            "text/plain": [
              "Sex\n",
              "F    12.0\n",
              "M    14.0\n",
              "Name: Age, dtype: float64"
            ]
          },
          "metadata": {},
          "execution_count": 62
        }
      ]
    },
    {
      "cell_type": "markdown",
      "source": [
        "### task \\#4: mean and std of Height for both sex"
      ],
      "metadata": {
        "id": "Yo5DnJT-0Ipg"
      }
    },
    {
      "cell_type": "code",
      "source": [
        "df.groupby(['Sex'])['Height'].mean()"
      ],
      "metadata": {
        "colab": {
          "base_uri": "https://localhost:8080/"
        },
        "id": "traw1jxyhQHE",
        "outputId": "d8ebe601-c07a-49d3-a432-b01e6584ad82"
      },
      "execution_count": 63,
      "outputs": [
        {
          "output_type": "execute_result",
          "data": {
            "text/plain": [
              "Sex\n",
              "F    167.861177\n",
              "M    178.964998\n",
              "Name: Height, dtype: float64"
            ]
          },
          "metadata": {},
          "execution_count": 63
        }
      ]
    },
    {
      "cell_type": "code",
      "source": [
        "df.groupby(['Sex'])['Height'].std()"
      ],
      "metadata": {
        "colab": {
          "base_uri": "https://localhost:8080/"
        },
        "id": "htdRulplg_4f",
        "outputId": "b0ef15cb-e6f9-45ae-833a-d4adcb5a5fd1"
      },
      "execution_count": 64,
      "outputs": [
        {
          "output_type": "execute_result",
          "data": {
            "text/plain": [
              "Sex\n",
              "F    8.767863\n",
              "M    9.367830\n",
              "Name: Height, dtype: float64"
            ]
          },
          "metadata": {},
          "execution_count": 64
        }
      ]
    },
    {
      "cell_type": "markdown",
      "source": [
        "### task \\#5: mean and std of Height for female tennis players at Olympics 2000"
      ],
      "metadata": {
        "id": "LFOHvuAs0b62"
      }
    },
    {
      "cell_type": "code",
      "source": [
        "t = np.array(df[(df['Year'] == 2000) & (df.Sex == 'F') & (df.Sport == 'Tennis')]['Height'])\n",
        "print(f'The mean of height for female tennis players for Olimpiad 2000 is {np.mean(t):.1f} cm')\n",
        "print(f'The std of height for female tennis players for Olimpiad 2000 is {np.std(t):.1f} cm')"
      ],
      "metadata": {
        "colab": {
          "base_uri": "https://localhost:8080/"
        },
        "id": "m5x2G8aOhirj",
        "outputId": "2be84ea7-480d-4e07-ae1e-5511e40f982b"
      },
      "execution_count": 65,
      "outputs": [
        {
          "output_type": "stream",
          "name": "stdout",
          "text": [
            "The mean of height for female tennis players for Olimpiad 2000 is 171.8 cm\n",
            "The std of height for female tennis players for Olimpiad 2000 is 6.4 cm\n"
          ]
        }
      ]
    },
    {
      "cell_type": "markdown",
      "source": [
        "### task \\#6: a kind of sport for the heaviest human at Olympics 2006"
      ],
      "metadata": {
        "id": "8lzTm8_q1VqL"
      }
    },
    {
      "cell_type": "code",
      "source": [
        "df[df['Year'] == 2006].nlargest(1, 'Weight')['Sport']"
      ],
      "metadata": {
        "colab": {
          "base_uri": "https://localhost:8080/"
        },
        "id": "R4Pwu9RfiMTG",
        "outputId": "566e6812-74f7-4ea2-b541-a20a97be077f"
      },
      "execution_count": 66,
      "outputs": [
        {
          "output_type": "execute_result",
          "data": {
            "text/plain": [
              "8102    Skeleton\n",
              "Name: Sport, dtype: object"
            ]
          },
          "metadata": {},
          "execution_count": 66
        }
      ]
    },
    {
      "cell_type": "markdown",
      "source": [
        "### task \\#7: amount of gold medals for women during Olympics 1980-2010"
      ],
      "metadata": {
        "id": "HVZqFba01k3T"
      }
    },
    {
      "cell_type": "code",
      "source": [
        "len(df[ (1980 <= df['Year']) & (df['Year'] <= 2010) & (df['Medal'] == 'Gold') & (df.Sex == 'F') ])"
      ],
      "metadata": {
        "colab": {
          "base_uri": "https://localhost:8080/"
        },
        "id": "UwPu5iBHjJt0",
        "outputId": "2898419d-0298-4a58-fce5-e9629e3ba572"
      },
      "execution_count": 67,
      "outputs": [
        {
          "output_type": "execute_result",
          "data": {
            "text/plain": [
              "4334"
            ]
          },
          "metadata": {},
          "execution_count": 67
        }
      ]
    },
    {
      "cell_type": "markdown",
      "source": [
        "### task \\#8: how many times John Aalberg were at Olympics"
      ],
      "metadata": {
        "id": "5MgIwTm21z5f"
      }
    },
    {
      "cell_type": "code",
      "source": [
        "# let's check for possibly case cases\n",
        "case = np.array(list(map(lambda x: x.lower(), df['Name'])))\n",
        "case = case[case == 'john aalberg']\n",
        "case"
      ],
      "metadata": {
        "colab": {
          "base_uri": "https://localhost:8080/"
        },
        "id": "s0i3ZP6Gj_5B",
        "outputId": "fe679524-b9b0-485e-b307-68d01e8e6504"
      },
      "execution_count": 68,
      "outputs": [
        {
          "output_type": "execute_result",
          "data": {
            "text/plain": [
              "array(['john aalberg', 'john aalberg', 'john aalberg', 'john aalberg',\n",
              "       'john aalberg', 'john aalberg', 'john aalberg', 'john aalberg',\n",
              "       'john aalberg', 'john aalberg', 'john aalberg', 'john aalberg',\n",
              "       'john aalberg', 'john aalberg', 'john aalberg', 'john aalberg'],\n",
              "      dtype='<U100')"
            ]
          },
          "metadata": {},
          "execution_count": 68
        }
      ]
    },
    {
      "cell_type": "code",
      "source": [
        "# OK, the case is fine since therea re 8 inputs in the dataframe too\n",
        "df[df.Name == 'John Aalberg']"
      ],
      "metadata": {
        "colab": {
          "base_uri": "https://localhost:8080/",
          "height": 1000
        },
        "id": "K7bSzXrmj6Hr",
        "outputId": "91d6e0c8-a775-4c59-fa80-0442add47eaa"
      },
      "execution_count": 69,
      "outputs": [
        {
          "output_type": "execute_result",
          "data": {
            "text/plain": [
              "       ID          Name Sex   Age  Height  Weight           Team  NOC  \\\n",
              "18      7  John Aalberg   M  31.0   183.0    72.0  United States  USA   \n",
              "19      7  John Aalberg   M  31.0   183.0    72.0  United States  USA   \n",
              "20      7  John Aalberg   M  31.0   183.0    72.0  United States  USA   \n",
              "21      7  John Aalberg   M  31.0   183.0    72.0  United States  USA   \n",
              "22      7  John Aalberg   M  33.0   183.0    72.0  United States  USA   \n",
              "23      7  John Aalberg   M  33.0   183.0    72.0  United States  USA   \n",
              "24      7  John Aalberg   M  33.0   183.0    72.0  United States  USA   \n",
              "25      7  John Aalberg   M  33.0   183.0    72.0  United States  USA   \n",
              "17318   7  John Aalberg   M  31.0   183.0    72.0  United States  USA   \n",
              "17319   7  John Aalberg   M  31.0   183.0    72.0  United States  USA   \n",
              "17320   7  John Aalberg   M  31.0   183.0    72.0  United States  USA   \n",
              "17321   7  John Aalberg   M  31.0   183.0    72.0  United States  USA   \n",
              "17322   7  John Aalberg   M  33.0   183.0    72.0  United States  USA   \n",
              "17323   7  John Aalberg   M  33.0   183.0    72.0  United States  USA   \n",
              "17324   7  John Aalberg   M  33.0   183.0    72.0  United States  USA   \n",
              "17325   7  John Aalberg   M  33.0   183.0    72.0  United States  USA   \n",
              "\n",
              "             Games    Year  Season         City                 Sport  \\\n",
              "18     1992 Winter  1992.0  Winter  Albertville  Cross Country Skiing   \n",
              "19     1992 Winter  1992.0  Winter  Albertville  Cross Country Skiing   \n",
              "20     1992 Winter  1992.0  Winter  Albertville  Cross Country Skiing   \n",
              "21     1992 Winter  1992.0  Winter  Albertville  Cross Country Skiing   \n",
              "22     1994 Winter  1994.0  Winter  Lillehammer  Cross Country Skiing   \n",
              "23     1994 Winter  1994.0  Winter  Lillehammer  Cross Country Skiing   \n",
              "24     1994 Winter  1994.0  Winter  Lillehammer  Cross Country Skiing   \n",
              "25     1994 Winter  1994.0  Winter  Lillehammer  Cross Country Skiing   \n",
              "17318  1992 Winter  1992.0  Winter  Albertville  Cross Country Skiing   \n",
              "17319  1992 Winter  1992.0  Winter  Albertville  Cross Country Skiing   \n",
              "17320  1992 Winter  1992.0  Winter  Albertville  Cross Country Skiing   \n",
              "17321  1992 Winter  1992.0  Winter  Albertville  Cross Country Skiing   \n",
              "17322  1994 Winter  1994.0  Winter  Lillehammer  Cross Country Skiing   \n",
              "17323  1994 Winter  1994.0  Winter  Lillehammer  Cross Country Skiing   \n",
              "17324  1994 Winter  1994.0  Winter  Lillehammer  Cross Country Skiing   \n",
              "17325  1994 Winter  1994.0  Winter  Lillehammer  Cross Country Skiing   \n",
              "\n",
              "                                                   Event Medal  \n",
              "18              Cross Country Skiing Men's 10 kilometres   NaN  \n",
              "19              Cross Country Skiing Men's 50 kilometres   NaN  \n",
              "20     Cross Country Skiing Men's 10/15 kilometres Pu...   NaN  \n",
              "21     Cross Country Skiing Men's 4 x 10 kilometres R...   NaN  \n",
              "22              Cross Country Skiing Men's 10 kilometres   NaN  \n",
              "23              Cross Country Skiing Men's 30 kilometres   NaN  \n",
              "24     Cross Country Skiing Men's 10/15 kilometres Pu...   NaN  \n",
              "25     Cross Country Skiing Men's 4 x 10 kilometres R...   NaN  \n",
              "17318           Cross Country Skiing Men's 10 kilometres   NaN  \n",
              "17319           Cross Country Skiing Men's 50 kilometres   NaN  \n",
              "17320  Cross Country Skiing Men's 10/15 kilometres Pu...   NaN  \n",
              "17321  Cross Country Skiing Men's 4 x 10 kilometres R...   NaN  \n",
              "17322           Cross Country Skiing Men's 10 kilometres   NaN  \n",
              "17323           Cross Country Skiing Men's 30 kilometres   NaN  \n",
              "17324  Cross Country Skiing Men's 10/15 kilometres Pu...   NaN  \n",
              "17325  Cross Country Skiing Men's 4 x 10 kilometres R...   NaN  "
            ],
            "text/html": [
              "\n",
              "  <div id=\"df-6407e314-ad55-491d-9e82-d651a8d15349\">\n",
              "    <div class=\"colab-df-container\">\n",
              "      <div>\n",
              "<style scoped>\n",
              "    .dataframe tbody tr th:only-of-type {\n",
              "        vertical-align: middle;\n",
              "    }\n",
              "\n",
              "    .dataframe tbody tr th {\n",
              "        vertical-align: top;\n",
              "    }\n",
              "\n",
              "    .dataframe thead th {\n",
              "        text-align: right;\n",
              "    }\n",
              "</style>\n",
              "<table border=\"1\" class=\"dataframe\">\n",
              "  <thead>\n",
              "    <tr style=\"text-align: right;\">\n",
              "      <th></th>\n",
              "      <th>ID</th>\n",
              "      <th>Name</th>\n",
              "      <th>Sex</th>\n",
              "      <th>Age</th>\n",
              "      <th>Height</th>\n",
              "      <th>Weight</th>\n",
              "      <th>Team</th>\n",
              "      <th>NOC</th>\n",
              "      <th>Games</th>\n",
              "      <th>Year</th>\n",
              "      <th>Season</th>\n",
              "      <th>City</th>\n",
              "      <th>Sport</th>\n",
              "      <th>Event</th>\n",
              "      <th>Medal</th>\n",
              "    </tr>\n",
              "  </thead>\n",
              "  <tbody>\n",
              "    <tr>\n",
              "      <th>18</th>\n",
              "      <td>7</td>\n",
              "      <td>John Aalberg</td>\n",
              "      <td>M</td>\n",
              "      <td>31.0</td>\n",
              "      <td>183.0</td>\n",
              "      <td>72.0</td>\n",
              "      <td>United States</td>\n",
              "      <td>USA</td>\n",
              "      <td>1992 Winter</td>\n",
              "      <td>1992.0</td>\n",
              "      <td>Winter</td>\n",
              "      <td>Albertville</td>\n",
              "      <td>Cross Country Skiing</td>\n",
              "      <td>Cross Country Skiing Men's 10 kilometres</td>\n",
              "      <td>NaN</td>\n",
              "    </tr>\n",
              "    <tr>\n",
              "      <th>19</th>\n",
              "      <td>7</td>\n",
              "      <td>John Aalberg</td>\n",
              "      <td>M</td>\n",
              "      <td>31.0</td>\n",
              "      <td>183.0</td>\n",
              "      <td>72.0</td>\n",
              "      <td>United States</td>\n",
              "      <td>USA</td>\n",
              "      <td>1992 Winter</td>\n",
              "      <td>1992.0</td>\n",
              "      <td>Winter</td>\n",
              "      <td>Albertville</td>\n",
              "      <td>Cross Country Skiing</td>\n",
              "      <td>Cross Country Skiing Men's 50 kilometres</td>\n",
              "      <td>NaN</td>\n",
              "    </tr>\n",
              "    <tr>\n",
              "      <th>20</th>\n",
              "      <td>7</td>\n",
              "      <td>John Aalberg</td>\n",
              "      <td>M</td>\n",
              "      <td>31.0</td>\n",
              "      <td>183.0</td>\n",
              "      <td>72.0</td>\n",
              "      <td>United States</td>\n",
              "      <td>USA</td>\n",
              "      <td>1992 Winter</td>\n",
              "      <td>1992.0</td>\n",
              "      <td>Winter</td>\n",
              "      <td>Albertville</td>\n",
              "      <td>Cross Country Skiing</td>\n",
              "      <td>Cross Country Skiing Men's 10/15 kilometres Pu...</td>\n",
              "      <td>NaN</td>\n",
              "    </tr>\n",
              "    <tr>\n",
              "      <th>21</th>\n",
              "      <td>7</td>\n",
              "      <td>John Aalberg</td>\n",
              "      <td>M</td>\n",
              "      <td>31.0</td>\n",
              "      <td>183.0</td>\n",
              "      <td>72.0</td>\n",
              "      <td>United States</td>\n",
              "      <td>USA</td>\n",
              "      <td>1992 Winter</td>\n",
              "      <td>1992.0</td>\n",
              "      <td>Winter</td>\n",
              "      <td>Albertville</td>\n",
              "      <td>Cross Country Skiing</td>\n",
              "      <td>Cross Country Skiing Men's 4 x 10 kilometres R...</td>\n",
              "      <td>NaN</td>\n",
              "    </tr>\n",
              "    <tr>\n",
              "      <th>22</th>\n",
              "      <td>7</td>\n",
              "      <td>John Aalberg</td>\n",
              "      <td>M</td>\n",
              "      <td>33.0</td>\n",
              "      <td>183.0</td>\n",
              "      <td>72.0</td>\n",
              "      <td>United States</td>\n",
              "      <td>USA</td>\n",
              "      <td>1994 Winter</td>\n",
              "      <td>1994.0</td>\n",
              "      <td>Winter</td>\n",
              "      <td>Lillehammer</td>\n",
              "      <td>Cross Country Skiing</td>\n",
              "      <td>Cross Country Skiing Men's 10 kilometres</td>\n",
              "      <td>NaN</td>\n",
              "    </tr>\n",
              "    <tr>\n",
              "      <th>23</th>\n",
              "      <td>7</td>\n",
              "      <td>John Aalberg</td>\n",
              "      <td>M</td>\n",
              "      <td>33.0</td>\n",
              "      <td>183.0</td>\n",
              "      <td>72.0</td>\n",
              "      <td>United States</td>\n",
              "      <td>USA</td>\n",
              "      <td>1994 Winter</td>\n",
              "      <td>1994.0</td>\n",
              "      <td>Winter</td>\n",
              "      <td>Lillehammer</td>\n",
              "      <td>Cross Country Skiing</td>\n",
              "      <td>Cross Country Skiing Men's 30 kilometres</td>\n",
              "      <td>NaN</td>\n",
              "    </tr>\n",
              "    <tr>\n",
              "      <th>24</th>\n",
              "      <td>7</td>\n",
              "      <td>John Aalberg</td>\n",
              "      <td>M</td>\n",
              "      <td>33.0</td>\n",
              "      <td>183.0</td>\n",
              "      <td>72.0</td>\n",
              "      <td>United States</td>\n",
              "      <td>USA</td>\n",
              "      <td>1994 Winter</td>\n",
              "      <td>1994.0</td>\n",
              "      <td>Winter</td>\n",
              "      <td>Lillehammer</td>\n",
              "      <td>Cross Country Skiing</td>\n",
              "      <td>Cross Country Skiing Men's 10/15 kilometres Pu...</td>\n",
              "      <td>NaN</td>\n",
              "    </tr>\n",
              "    <tr>\n",
              "      <th>25</th>\n",
              "      <td>7</td>\n",
              "      <td>John Aalberg</td>\n",
              "      <td>M</td>\n",
              "      <td>33.0</td>\n",
              "      <td>183.0</td>\n",
              "      <td>72.0</td>\n",
              "      <td>United States</td>\n",
              "      <td>USA</td>\n",
              "      <td>1994 Winter</td>\n",
              "      <td>1994.0</td>\n",
              "      <td>Winter</td>\n",
              "      <td>Lillehammer</td>\n",
              "      <td>Cross Country Skiing</td>\n",
              "      <td>Cross Country Skiing Men's 4 x 10 kilometres R...</td>\n",
              "      <td>NaN</td>\n",
              "    </tr>\n",
              "    <tr>\n",
              "      <th>17318</th>\n",
              "      <td>7</td>\n",
              "      <td>John Aalberg</td>\n",
              "      <td>M</td>\n",
              "      <td>31.0</td>\n",
              "      <td>183.0</td>\n",
              "      <td>72.0</td>\n",
              "      <td>United States</td>\n",
              "      <td>USA</td>\n",
              "      <td>1992 Winter</td>\n",
              "      <td>1992.0</td>\n",
              "      <td>Winter</td>\n",
              "      <td>Albertville</td>\n",
              "      <td>Cross Country Skiing</td>\n",
              "      <td>Cross Country Skiing Men's 10 kilometres</td>\n",
              "      <td>NaN</td>\n",
              "    </tr>\n",
              "    <tr>\n",
              "      <th>17319</th>\n",
              "      <td>7</td>\n",
              "      <td>John Aalberg</td>\n",
              "      <td>M</td>\n",
              "      <td>31.0</td>\n",
              "      <td>183.0</td>\n",
              "      <td>72.0</td>\n",
              "      <td>United States</td>\n",
              "      <td>USA</td>\n",
              "      <td>1992 Winter</td>\n",
              "      <td>1992.0</td>\n",
              "      <td>Winter</td>\n",
              "      <td>Albertville</td>\n",
              "      <td>Cross Country Skiing</td>\n",
              "      <td>Cross Country Skiing Men's 50 kilometres</td>\n",
              "      <td>NaN</td>\n",
              "    </tr>\n",
              "    <tr>\n",
              "      <th>17320</th>\n",
              "      <td>7</td>\n",
              "      <td>John Aalberg</td>\n",
              "      <td>M</td>\n",
              "      <td>31.0</td>\n",
              "      <td>183.0</td>\n",
              "      <td>72.0</td>\n",
              "      <td>United States</td>\n",
              "      <td>USA</td>\n",
              "      <td>1992 Winter</td>\n",
              "      <td>1992.0</td>\n",
              "      <td>Winter</td>\n",
              "      <td>Albertville</td>\n",
              "      <td>Cross Country Skiing</td>\n",
              "      <td>Cross Country Skiing Men's 10/15 kilometres Pu...</td>\n",
              "      <td>NaN</td>\n",
              "    </tr>\n",
              "    <tr>\n",
              "      <th>17321</th>\n",
              "      <td>7</td>\n",
              "      <td>John Aalberg</td>\n",
              "      <td>M</td>\n",
              "      <td>31.0</td>\n",
              "      <td>183.0</td>\n",
              "      <td>72.0</td>\n",
              "      <td>United States</td>\n",
              "      <td>USA</td>\n",
              "      <td>1992 Winter</td>\n",
              "      <td>1992.0</td>\n",
              "      <td>Winter</td>\n",
              "      <td>Albertville</td>\n",
              "      <td>Cross Country Skiing</td>\n",
              "      <td>Cross Country Skiing Men's 4 x 10 kilometres R...</td>\n",
              "      <td>NaN</td>\n",
              "    </tr>\n",
              "    <tr>\n",
              "      <th>17322</th>\n",
              "      <td>7</td>\n",
              "      <td>John Aalberg</td>\n",
              "      <td>M</td>\n",
              "      <td>33.0</td>\n",
              "      <td>183.0</td>\n",
              "      <td>72.0</td>\n",
              "      <td>United States</td>\n",
              "      <td>USA</td>\n",
              "      <td>1994 Winter</td>\n",
              "      <td>1994.0</td>\n",
              "      <td>Winter</td>\n",
              "      <td>Lillehammer</td>\n",
              "      <td>Cross Country Skiing</td>\n",
              "      <td>Cross Country Skiing Men's 10 kilometres</td>\n",
              "      <td>NaN</td>\n",
              "    </tr>\n",
              "    <tr>\n",
              "      <th>17323</th>\n",
              "      <td>7</td>\n",
              "      <td>John Aalberg</td>\n",
              "      <td>M</td>\n",
              "      <td>33.0</td>\n",
              "      <td>183.0</td>\n",
              "      <td>72.0</td>\n",
              "      <td>United States</td>\n",
              "      <td>USA</td>\n",
              "      <td>1994 Winter</td>\n",
              "      <td>1994.0</td>\n",
              "      <td>Winter</td>\n",
              "      <td>Lillehammer</td>\n",
              "      <td>Cross Country Skiing</td>\n",
              "      <td>Cross Country Skiing Men's 30 kilometres</td>\n",
              "      <td>NaN</td>\n",
              "    </tr>\n",
              "    <tr>\n",
              "      <th>17324</th>\n",
              "      <td>7</td>\n",
              "      <td>John Aalberg</td>\n",
              "      <td>M</td>\n",
              "      <td>33.0</td>\n",
              "      <td>183.0</td>\n",
              "      <td>72.0</td>\n",
              "      <td>United States</td>\n",
              "      <td>USA</td>\n",
              "      <td>1994 Winter</td>\n",
              "      <td>1994.0</td>\n",
              "      <td>Winter</td>\n",
              "      <td>Lillehammer</td>\n",
              "      <td>Cross Country Skiing</td>\n",
              "      <td>Cross Country Skiing Men's 10/15 kilometres Pu...</td>\n",
              "      <td>NaN</td>\n",
              "    </tr>\n",
              "    <tr>\n",
              "      <th>17325</th>\n",
              "      <td>7</td>\n",
              "      <td>John Aalberg</td>\n",
              "      <td>M</td>\n",
              "      <td>33.0</td>\n",
              "      <td>183.0</td>\n",
              "      <td>72.0</td>\n",
              "      <td>United States</td>\n",
              "      <td>USA</td>\n",
              "      <td>1994 Winter</td>\n",
              "      <td>1994.0</td>\n",
              "      <td>Winter</td>\n",
              "      <td>Lillehammer</td>\n",
              "      <td>Cross Country Skiing</td>\n",
              "      <td>Cross Country Skiing Men's 4 x 10 kilometres R...</td>\n",
              "      <td>NaN</td>\n",
              "    </tr>\n",
              "  </tbody>\n",
              "</table>\n",
              "</div>\n",
              "      <button class=\"colab-df-convert\" onclick=\"convertToInteractive('df-6407e314-ad55-491d-9e82-d651a8d15349')\"\n",
              "              title=\"Convert this dataframe to an interactive table.\"\n",
              "              style=\"display:none;\">\n",
              "        \n",
              "  <svg xmlns=\"http://www.w3.org/2000/svg\" height=\"24px\"viewBox=\"0 0 24 24\"\n",
              "       width=\"24px\">\n",
              "    <path d=\"M0 0h24v24H0V0z\" fill=\"none\"/>\n",
              "    <path d=\"M18.56 5.44l.94 2.06.94-2.06 2.06-.94-2.06-.94-.94-2.06-.94 2.06-2.06.94zm-11 1L8.5 8.5l.94-2.06 2.06-.94-2.06-.94L8.5 2.5l-.94 2.06-2.06.94zm10 10l.94 2.06.94-2.06 2.06-.94-2.06-.94-.94-2.06-.94 2.06-2.06.94z\"/><path d=\"M17.41 7.96l-1.37-1.37c-.4-.4-.92-.59-1.43-.59-.52 0-1.04.2-1.43.59L10.3 9.45l-7.72 7.72c-.78.78-.78 2.05 0 2.83L4 21.41c.39.39.9.59 1.41.59.51 0 1.02-.2 1.41-.59l7.78-7.78 2.81-2.81c.8-.78.8-2.07 0-2.86zM5.41 20L4 18.59l7.72-7.72 1.47 1.35L5.41 20z\"/>\n",
              "  </svg>\n",
              "      </button>\n",
              "      \n",
              "  <style>\n",
              "    .colab-df-container {\n",
              "      display:flex;\n",
              "      flex-wrap:wrap;\n",
              "      gap: 12px;\n",
              "    }\n",
              "\n",
              "    .colab-df-convert {\n",
              "      background-color: #E8F0FE;\n",
              "      border: none;\n",
              "      border-radius: 50%;\n",
              "      cursor: pointer;\n",
              "      display: none;\n",
              "      fill: #1967D2;\n",
              "      height: 32px;\n",
              "      padding: 0 0 0 0;\n",
              "      width: 32px;\n",
              "    }\n",
              "\n",
              "    .colab-df-convert:hover {\n",
              "      background-color: #E2EBFA;\n",
              "      box-shadow: 0px 1px 2px rgba(60, 64, 67, 0.3), 0px 1px 3px 1px rgba(60, 64, 67, 0.15);\n",
              "      fill: #174EA6;\n",
              "    }\n",
              "\n",
              "    [theme=dark] .colab-df-convert {\n",
              "      background-color: #3B4455;\n",
              "      fill: #D2E3FC;\n",
              "    }\n",
              "\n",
              "    [theme=dark] .colab-df-convert:hover {\n",
              "      background-color: #434B5C;\n",
              "      box-shadow: 0px 1px 3px 1px rgba(0, 0, 0, 0.15);\n",
              "      filter: drop-shadow(0px 1px 2px rgba(0, 0, 0, 0.3));\n",
              "      fill: #FFFFFF;\n",
              "    }\n",
              "  </style>\n",
              "\n",
              "      <script>\n",
              "        const buttonEl =\n",
              "          document.querySelector('#df-6407e314-ad55-491d-9e82-d651a8d15349 button.colab-df-convert');\n",
              "        buttonEl.style.display =\n",
              "          google.colab.kernel.accessAllowed ? 'block' : 'none';\n",
              "\n",
              "        async function convertToInteractive(key) {\n",
              "          const element = document.querySelector('#df-6407e314-ad55-491d-9e82-d651a8d15349');\n",
              "          const dataTable =\n",
              "            await google.colab.kernel.invokeFunction('convertToInteractive',\n",
              "                                                     [key], {});\n",
              "          if (!dataTable) return;\n",
              "\n",
              "          const docLinkHtml = 'Like what you see? Visit the ' +\n",
              "            '<a target=\"_blank\" href=https://colab.research.google.com/notebooks/data_table.ipynb>data table notebook</a>'\n",
              "            + ' to learn more about interactive tables.';\n",
              "          element.innerHTML = '';\n",
              "          dataTable['output_type'] = 'display_data';\n",
              "          await google.colab.output.renderOutput(dataTable, element);\n",
              "          const docLink = document.createElement('div');\n",
              "          docLink.innerHTML = docLinkHtml;\n",
              "          element.appendChild(docLink);\n",
              "        }\n",
              "      </script>\n",
              "    </div>\n",
              "  </div>\n",
              "  "
            ]
          },
          "metadata": {},
          "execution_count": 69
        }
      ]
    },
    {
      "cell_type": "markdown",
      "source": [
        "⛷ Therefore, John Aalberg participated forth times in Cross Country Skiing in 1992 and the same amount yet at the partly new categories in 1994. Overall, he got into 8 events during 2 years."
      ],
      "metadata": {
        "id": "h3DlF30LoYJy"
      }
    },
    {
      "cell_type": "markdown",
      "source": [
        "### task \\#9: age groups"
      ],
      "metadata": {
        "id": "Q6gzk20k2QGx"
      }
    },
    {
      "cell_type": "code",
      "source": [
        "ages = [0,15,25,35,45,55,125]\n",
        "ages_dict = {}\n",
        "\n",
        "for i in range(len(ages) - 1):\n",
        "  lenght_of_group = len(df[df.Year == 2008].query(f'{ages[i]} <= Age < {ages[i+1]}')['Name'].unique())\n",
        "  ages_dict[lenght_of_group] = f'[{ages[i]}, {ages[i+1]})'\n",
        "  print(f'The amount of people within the age group of {ages[i]}-{ages[i+1]} is {lenght_of_group}')\n",
        "\n",
        "print()\n",
        "print(f'The most represented group is {ages_dict[max(ages_dict)]}')\n",
        "print(f'The less represented group is {ages_dict[min(ages_dict)]}')"
      ],
      "metadata": {
        "colab": {
          "base_uri": "https://localhost:8080/"
        },
        "id": "OOjMJ4djkxMw",
        "outputId": "086c9b2d-8e69-43ea-e846-4e55aae9550a"
      },
      "execution_count": 70,
      "outputs": [
        {
          "output_type": "stream",
          "name": "stdout",
          "text": [
            "The amount of people within the age group of 0-15 is 11\n",
            "The amount of people within the age group of 15-25 is 4679\n",
            "The amount of people within the age group of 25-35 is 5321\n",
            "The amount of people within the age group of 35-45 is 619\n",
            "The amount of people within the age group of 45-55 is 75\n",
            "The amount of people within the age group of 55-125 is 11\n",
            "\n",
            "The most represented group is [25, 35)\n",
            "The less represented group is [55, 125)\n"
          ]
        }
      ]
    },
    {
      "cell_type": "markdown",
      "source": [
        "### task \\#10: the number of sports in the 2002 Olympics compared to the 1994 Olympics"
      ],
      "metadata": {
        "id": "kHfC8IoO2dea"
      }
    },
    {
      "cell_type": "code",
      "source": [
        "a = set(df[df.Year == 1994]['Sport'])\n",
        "b = set(df[df.Year == 2002]['Sport'])\n",
        "c = a & b\n",
        "\n",
        "print(f'The amount of sport activities in 1994 is {len(a)}')\n",
        "print(f'The amount of sport activities in 2002 is {len(b)}')\n",
        "\n",
        "print(f'Unique sports in 2002 are {b - c}, whereas in 1994 {a-c}')\n",
        "print(f'So, the difference is in {len(b - c) + len(a-c)} kinds of sports')"
      ],
      "metadata": {
        "colab": {
          "base_uri": "https://localhost:8080/"
        },
        "id": "WjxKOtXpnOJh",
        "outputId": "1df23caf-485f-4254-e7d6-572eca3483bb"
      },
      "execution_count": 71,
      "outputs": [
        {
          "output_type": "stream",
          "name": "stdout",
          "text": [
            "The amount of sport activities in 1994 is 12\n",
            "The amount of sport activities in 2002 is 15\n",
            "Unique sports in 2002 are {'Snowboarding', 'Skeleton', 'Curling'}, whereas in 1994 set()\n",
            "So, the difference is in 3 kinds of sports\n"
          ]
        }
      ]
    },
    {
      "cell_type": "markdown",
      "source": [
        "### task \\#11: top3 countries for every type of medals and each of seasons"
      ],
      "metadata": {
        "id": "JXTOLUyD8i4L"
      }
    },
    {
      "cell_type": "code",
      "source": [
        "df.groupby(['Medal', 'Season']).NOC.value_counts(lambda x: x).groupby(level=[0,1]).head(3)"
      ],
      "metadata": {
        "colab": {
          "base_uri": "https://localhost:8080/"
        },
        "id": "f2zgaoFOon9D",
        "outputId": "6a39fcd6-5f5a-44dc-fd15-c86f3663efd1"
      },
      "execution_count": 72,
      "outputs": [
        {
          "output_type": "execute_result",
          "data": {
            "text/plain": [
              "Medal   Season  NOC\n",
              "Bronze  Summer  USA    0.099696\n",
              "                URS    0.064441\n",
              "                GER    0.057436\n",
              "        Winter  FIN    0.132743\n",
              "                SWE    0.086599\n",
              "                USA    0.080910\n",
              "Gold    Summer  USA    0.231913\n",
              "                URS    0.088738\n",
              "                GER    0.047647\n",
              "        Winter  CAN    0.152000\n",
              "                URS    0.137846\n",
              "                GER    0.086154\n",
              "Silver  Summer  USA    0.126321\n",
              "                URS    0.067533\n",
              "                AUS    0.049800\n",
              "        Winter  USA    0.150643\n",
              "                CAN    0.110839\n",
              "                FIN    0.083895\n",
              "Name: NOC, dtype: float64"
            ]
          },
          "metadata": {},
          "execution_count": 72
        }
      ]
    },
    {
      "cell_type": "markdown",
      "source": [
        "### task \\#12: standardise height"
      ],
      "metadata": {
        "id": "KWp_vRCf80HF"
      }
    },
    {
      "cell_type": "code",
      "source": [
        "Height_z_scores = (df.Height - df.Height.mean()) / df.Height.std()"
      ],
      "metadata": {
        "id": "nmzzpQaayqWm"
      },
      "execution_count": 73,
      "outputs": []
    },
    {
      "cell_type": "markdown",
      "source": [
        "### task \\#13: normalize height"
      ],
      "metadata": {
        "id": "aIEePOgs88Lo"
      }
    },
    {
      "cell_type": "code",
      "source": [
        "Height_min_max_scaled = (df.Height - df.Height.min()) / (df.Height.max() - df.Height.min())"
      ],
      "metadata": {
        "id": "Ju4Y4-Mt0a3g"
      },
      "execution_count": 74,
      "outputs": []
    },
    {
      "cell_type": "markdown",
      "source": [
        "### task \\#14: compare height, weight, ang age of different sex"
      ],
      "metadata": {
        "id": "gattIdHm9Gwh"
      }
    },
    {
      "cell_type": "code",
      "source": [
        "# we can do it by the standart _describe_ method. Yet it is not very appealing\n",
        "df.groupby('Sex')[['Height', 'Weight', 'Age']].describe()"
      ],
      "metadata": {
        "colab": {
          "base_uri": "https://localhost:8080/",
          "height": 262
        },
        "id": "_OtSdCYQ08Cu",
        "outputId": "219a3a61-c177-4035-fcef-d18ad016408d"
      },
      "execution_count": 75,
      "outputs": [
        {
          "output_type": "execute_result",
          "data": {
            "text/plain": [
              "       Height                                                           \\\n",
              "        count        mean       std    min    25%    50%    75%    max   \n",
              "Sex                                                                      \n",
              "F    133422.0  167.861177  8.767863  127.0  162.0  168.0  173.0  213.0   \n",
              "M    278900.0  178.964998  9.367830  127.0  173.0  179.0  185.0  226.0   \n",
              "\n",
              "       Weight            ...                    Age                       \\\n",
              "        count      mean  ...   75%    max     count       mean       std   \n",
              "Sex                      ...                                               \n",
              "F    133422.0  60.02259  ...  65.0  167.0  133422.0  23.779362  5.545757   \n",
              "M    278900.0  75.79095  ...  83.0  214.0  278900.0  25.665938  5.346279   \n",
              "\n",
              "                                   \n",
              "      min   25%   50%   75%   max  \n",
              "Sex                                \n",
              "F    11.0  20.0  23.0  27.0  69.0  \n",
              "M    12.0  22.0  25.0  28.0  71.0  \n",
              "\n",
              "[2 rows x 24 columns]"
            ],
            "text/html": [
              "\n",
              "  <div id=\"df-39c92204-4877-43a2-a545-479a2d495b9e\">\n",
              "    <div class=\"colab-df-container\">\n",
              "      <div>\n",
              "<style scoped>\n",
              "    .dataframe tbody tr th:only-of-type {\n",
              "        vertical-align: middle;\n",
              "    }\n",
              "\n",
              "    .dataframe tbody tr th {\n",
              "        vertical-align: top;\n",
              "    }\n",
              "\n",
              "    .dataframe thead tr th {\n",
              "        text-align: left;\n",
              "    }\n",
              "\n",
              "    .dataframe thead tr:last-of-type th {\n",
              "        text-align: right;\n",
              "    }\n",
              "</style>\n",
              "<table border=\"1\" class=\"dataframe\">\n",
              "  <thead>\n",
              "    <tr>\n",
              "      <th></th>\n",
              "      <th colspan=\"8\" halign=\"left\">Height</th>\n",
              "      <th colspan=\"5\" halign=\"left\">Weight</th>\n",
              "      <th colspan=\"8\" halign=\"left\">Age</th>\n",
              "    </tr>\n",
              "    <tr>\n",
              "      <th></th>\n",
              "      <th>count</th>\n",
              "      <th>mean</th>\n",
              "      <th>std</th>\n",
              "      <th>min</th>\n",
              "      <th>25%</th>\n",
              "      <th>50%</th>\n",
              "      <th>75%</th>\n",
              "      <th>max</th>\n",
              "      <th>count</th>\n",
              "      <th>mean</th>\n",
              "      <th>...</th>\n",
              "      <th>75%</th>\n",
              "      <th>max</th>\n",
              "      <th>count</th>\n",
              "      <th>mean</th>\n",
              "      <th>std</th>\n",
              "      <th>min</th>\n",
              "      <th>25%</th>\n",
              "      <th>50%</th>\n",
              "      <th>75%</th>\n",
              "      <th>max</th>\n",
              "    </tr>\n",
              "    <tr>\n",
              "      <th>Sex</th>\n",
              "      <th></th>\n",
              "      <th></th>\n",
              "      <th></th>\n",
              "      <th></th>\n",
              "      <th></th>\n",
              "      <th></th>\n",
              "      <th></th>\n",
              "      <th></th>\n",
              "      <th></th>\n",
              "      <th></th>\n",
              "      <th></th>\n",
              "      <th></th>\n",
              "      <th></th>\n",
              "      <th></th>\n",
              "      <th></th>\n",
              "      <th></th>\n",
              "      <th></th>\n",
              "      <th></th>\n",
              "      <th></th>\n",
              "      <th></th>\n",
              "      <th></th>\n",
              "    </tr>\n",
              "  </thead>\n",
              "  <tbody>\n",
              "    <tr>\n",
              "      <th>F</th>\n",
              "      <td>133422.0</td>\n",
              "      <td>167.861177</td>\n",
              "      <td>8.767863</td>\n",
              "      <td>127.0</td>\n",
              "      <td>162.0</td>\n",
              "      <td>168.0</td>\n",
              "      <td>173.0</td>\n",
              "      <td>213.0</td>\n",
              "      <td>133422.0</td>\n",
              "      <td>60.02259</td>\n",
              "      <td>...</td>\n",
              "      <td>65.0</td>\n",
              "      <td>167.0</td>\n",
              "      <td>133422.0</td>\n",
              "      <td>23.779362</td>\n",
              "      <td>5.545757</td>\n",
              "      <td>11.0</td>\n",
              "      <td>20.0</td>\n",
              "      <td>23.0</td>\n",
              "      <td>27.0</td>\n",
              "      <td>69.0</td>\n",
              "    </tr>\n",
              "    <tr>\n",
              "      <th>M</th>\n",
              "      <td>278900.0</td>\n",
              "      <td>178.964998</td>\n",
              "      <td>9.367830</td>\n",
              "      <td>127.0</td>\n",
              "      <td>173.0</td>\n",
              "      <td>179.0</td>\n",
              "      <td>185.0</td>\n",
              "      <td>226.0</td>\n",
              "      <td>278900.0</td>\n",
              "      <td>75.79095</td>\n",
              "      <td>...</td>\n",
              "      <td>83.0</td>\n",
              "      <td>214.0</td>\n",
              "      <td>278900.0</td>\n",
              "      <td>25.665938</td>\n",
              "      <td>5.346279</td>\n",
              "      <td>12.0</td>\n",
              "      <td>22.0</td>\n",
              "      <td>25.0</td>\n",
              "      <td>28.0</td>\n",
              "      <td>71.0</td>\n",
              "    </tr>\n",
              "  </tbody>\n",
              "</table>\n",
              "<p>2 rows × 24 columns</p>\n",
              "</div>\n",
              "      <button class=\"colab-df-convert\" onclick=\"convertToInteractive('df-39c92204-4877-43a2-a545-479a2d495b9e')\"\n",
              "              title=\"Convert this dataframe to an interactive table.\"\n",
              "              style=\"display:none;\">\n",
              "        \n",
              "  <svg xmlns=\"http://www.w3.org/2000/svg\" height=\"24px\"viewBox=\"0 0 24 24\"\n",
              "       width=\"24px\">\n",
              "    <path d=\"M0 0h24v24H0V0z\" fill=\"none\"/>\n",
              "    <path d=\"M18.56 5.44l.94 2.06.94-2.06 2.06-.94-2.06-.94-.94-2.06-.94 2.06-2.06.94zm-11 1L8.5 8.5l.94-2.06 2.06-.94-2.06-.94L8.5 2.5l-.94 2.06-2.06.94zm10 10l.94 2.06.94-2.06 2.06-.94-2.06-.94-.94-2.06-.94 2.06-2.06.94z\"/><path d=\"M17.41 7.96l-1.37-1.37c-.4-.4-.92-.59-1.43-.59-.52 0-1.04.2-1.43.59L10.3 9.45l-7.72 7.72c-.78.78-.78 2.05 0 2.83L4 21.41c.39.39.9.59 1.41.59.51 0 1.02-.2 1.41-.59l7.78-7.78 2.81-2.81c.8-.78.8-2.07 0-2.86zM5.41 20L4 18.59l7.72-7.72 1.47 1.35L5.41 20z\"/>\n",
              "  </svg>\n",
              "      </button>\n",
              "      \n",
              "  <style>\n",
              "    .colab-df-container {\n",
              "      display:flex;\n",
              "      flex-wrap:wrap;\n",
              "      gap: 12px;\n",
              "    }\n",
              "\n",
              "    .colab-df-convert {\n",
              "      background-color: #E8F0FE;\n",
              "      border: none;\n",
              "      border-radius: 50%;\n",
              "      cursor: pointer;\n",
              "      display: none;\n",
              "      fill: #1967D2;\n",
              "      height: 32px;\n",
              "      padding: 0 0 0 0;\n",
              "      width: 32px;\n",
              "    }\n",
              "\n",
              "    .colab-df-convert:hover {\n",
              "      background-color: #E2EBFA;\n",
              "      box-shadow: 0px 1px 2px rgba(60, 64, 67, 0.3), 0px 1px 3px 1px rgba(60, 64, 67, 0.15);\n",
              "      fill: #174EA6;\n",
              "    }\n",
              "\n",
              "    [theme=dark] .colab-df-convert {\n",
              "      background-color: #3B4455;\n",
              "      fill: #D2E3FC;\n",
              "    }\n",
              "\n",
              "    [theme=dark] .colab-df-convert:hover {\n",
              "      background-color: #434B5C;\n",
              "      box-shadow: 0px 1px 3px 1px rgba(0, 0, 0, 0.15);\n",
              "      filter: drop-shadow(0px 1px 2px rgba(0, 0, 0, 0.3));\n",
              "      fill: #FFFFFF;\n",
              "    }\n",
              "  </style>\n",
              "\n",
              "      <script>\n",
              "        const buttonEl =\n",
              "          document.querySelector('#df-39c92204-4877-43a2-a545-479a2d495b9e button.colab-df-convert');\n",
              "        buttonEl.style.display =\n",
              "          google.colab.kernel.accessAllowed ? 'block' : 'none';\n",
              "\n",
              "        async function convertToInteractive(key) {\n",
              "          const element = document.querySelector('#df-39c92204-4877-43a2-a545-479a2d495b9e');\n",
              "          const dataTable =\n",
              "            await google.colab.kernel.invokeFunction('convertToInteractive',\n",
              "                                                     [key], {});\n",
              "          if (!dataTable) return;\n",
              "\n",
              "          const docLinkHtml = 'Like what you see? Visit the ' +\n",
              "            '<a target=\"_blank\" href=https://colab.research.google.com/notebooks/data_table.ipynb>data table notebook</a>'\n",
              "            + ' to learn more about interactive tables.';\n",
              "          element.innerHTML = '';\n",
              "          dataTable['output_type'] = 'display_data';\n",
              "          await google.colab.output.renderOutput(dataTable, element);\n",
              "          const docLink = document.createElement('div');\n",
              "          docLink.innerHTML = docLinkHtml;\n",
              "          element.appendChild(docLink);\n",
              "        }\n",
              "      </script>\n",
              "    </div>\n",
              "  </div>\n",
              "  "
            ]
          },
          "metadata": {},
          "execution_count": 75
        }
      ]
    },
    {
      "cell_type": "code",
      "source": [
        "# let's keep only truely important characteristicsc\n",
        "df.groupby('Sex')[['Height', 'Weight', 'Age']].agg(['mean', 'std', 'max', 'min'])"
      ],
      "metadata": {
        "colab": {
          "base_uri": "https://localhost:8080/",
          "height": 234
        },
        "id": "pC3qFIXP1vDL",
        "outputId": "5df53d11-7ee6-4eb9-f0c6-6d0760050d5c"
      },
      "execution_count": 76,
      "outputs": [
        {
          "output_type": "execute_result",
          "data": {
            "text/plain": [
              "         Height                            Weight                          \\\n",
              "           mean       std    max    min      mean        std    max   min   \n",
              "Sex                                                                         \n",
              "F    167.861177  8.767863  213.0  127.0  60.02259  10.208133  167.0  25.0   \n",
              "M    178.964998  9.367830  226.0  127.0  75.79095  13.180489  214.0  28.0   \n",
              "\n",
              "           Age                        \n",
              "          mean       std   max   min  \n",
              "Sex                                   \n",
              "F    23.779362  5.545757  69.0  11.0  \n",
              "M    25.665938  5.346279  71.0  12.0  "
            ],
            "text/html": [
              "\n",
              "  <div id=\"df-401ce74b-fa3e-4486-b73f-d24d6d6bea2d\">\n",
              "    <div class=\"colab-df-container\">\n",
              "      <div>\n",
              "<style scoped>\n",
              "    .dataframe tbody tr th:only-of-type {\n",
              "        vertical-align: middle;\n",
              "    }\n",
              "\n",
              "    .dataframe tbody tr th {\n",
              "        vertical-align: top;\n",
              "    }\n",
              "\n",
              "    .dataframe thead tr th {\n",
              "        text-align: left;\n",
              "    }\n",
              "\n",
              "    .dataframe thead tr:last-of-type th {\n",
              "        text-align: right;\n",
              "    }\n",
              "</style>\n",
              "<table border=\"1\" class=\"dataframe\">\n",
              "  <thead>\n",
              "    <tr>\n",
              "      <th></th>\n",
              "      <th colspan=\"4\" halign=\"left\">Height</th>\n",
              "      <th colspan=\"4\" halign=\"left\">Weight</th>\n",
              "      <th colspan=\"4\" halign=\"left\">Age</th>\n",
              "    </tr>\n",
              "    <tr>\n",
              "      <th></th>\n",
              "      <th>mean</th>\n",
              "      <th>std</th>\n",
              "      <th>max</th>\n",
              "      <th>min</th>\n",
              "      <th>mean</th>\n",
              "      <th>std</th>\n",
              "      <th>max</th>\n",
              "      <th>min</th>\n",
              "      <th>mean</th>\n",
              "      <th>std</th>\n",
              "      <th>max</th>\n",
              "      <th>min</th>\n",
              "    </tr>\n",
              "    <tr>\n",
              "      <th>Sex</th>\n",
              "      <th></th>\n",
              "      <th></th>\n",
              "      <th></th>\n",
              "      <th></th>\n",
              "      <th></th>\n",
              "      <th></th>\n",
              "      <th></th>\n",
              "      <th></th>\n",
              "      <th></th>\n",
              "      <th></th>\n",
              "      <th></th>\n",
              "      <th></th>\n",
              "    </tr>\n",
              "  </thead>\n",
              "  <tbody>\n",
              "    <tr>\n",
              "      <th>F</th>\n",
              "      <td>167.861177</td>\n",
              "      <td>8.767863</td>\n",
              "      <td>213.0</td>\n",
              "      <td>127.0</td>\n",
              "      <td>60.02259</td>\n",
              "      <td>10.208133</td>\n",
              "      <td>167.0</td>\n",
              "      <td>25.0</td>\n",
              "      <td>23.779362</td>\n",
              "      <td>5.545757</td>\n",
              "      <td>69.0</td>\n",
              "      <td>11.0</td>\n",
              "    </tr>\n",
              "    <tr>\n",
              "      <th>M</th>\n",
              "      <td>178.964998</td>\n",
              "      <td>9.367830</td>\n",
              "      <td>226.0</td>\n",
              "      <td>127.0</td>\n",
              "      <td>75.79095</td>\n",
              "      <td>13.180489</td>\n",
              "      <td>214.0</td>\n",
              "      <td>28.0</td>\n",
              "      <td>25.665938</td>\n",
              "      <td>5.346279</td>\n",
              "      <td>71.0</td>\n",
              "      <td>12.0</td>\n",
              "    </tr>\n",
              "  </tbody>\n",
              "</table>\n",
              "</div>\n",
              "      <button class=\"colab-df-convert\" onclick=\"convertToInteractive('df-401ce74b-fa3e-4486-b73f-d24d6d6bea2d')\"\n",
              "              title=\"Convert this dataframe to an interactive table.\"\n",
              "              style=\"display:none;\">\n",
              "        \n",
              "  <svg xmlns=\"http://www.w3.org/2000/svg\" height=\"24px\"viewBox=\"0 0 24 24\"\n",
              "       width=\"24px\">\n",
              "    <path d=\"M0 0h24v24H0V0z\" fill=\"none\"/>\n",
              "    <path d=\"M18.56 5.44l.94 2.06.94-2.06 2.06-.94-2.06-.94-.94-2.06-.94 2.06-2.06.94zm-11 1L8.5 8.5l.94-2.06 2.06-.94-2.06-.94L8.5 2.5l-.94 2.06-2.06.94zm10 10l.94 2.06.94-2.06 2.06-.94-2.06-.94-.94-2.06-.94 2.06-2.06.94z\"/><path d=\"M17.41 7.96l-1.37-1.37c-.4-.4-.92-.59-1.43-.59-.52 0-1.04.2-1.43.59L10.3 9.45l-7.72 7.72c-.78.78-.78 2.05 0 2.83L4 21.41c.39.39.9.59 1.41.59.51 0 1.02-.2 1.41-.59l7.78-7.78 2.81-2.81c.8-.78.8-2.07 0-2.86zM5.41 20L4 18.59l7.72-7.72 1.47 1.35L5.41 20z\"/>\n",
              "  </svg>\n",
              "      </button>\n",
              "      \n",
              "  <style>\n",
              "    .colab-df-container {\n",
              "      display:flex;\n",
              "      flex-wrap:wrap;\n",
              "      gap: 12px;\n",
              "    }\n",
              "\n",
              "    .colab-df-convert {\n",
              "      background-color: #E8F0FE;\n",
              "      border: none;\n",
              "      border-radius: 50%;\n",
              "      cursor: pointer;\n",
              "      display: none;\n",
              "      fill: #1967D2;\n",
              "      height: 32px;\n",
              "      padding: 0 0 0 0;\n",
              "      width: 32px;\n",
              "    }\n",
              "\n",
              "    .colab-df-convert:hover {\n",
              "      background-color: #E2EBFA;\n",
              "      box-shadow: 0px 1px 2px rgba(60, 64, 67, 0.3), 0px 1px 3px 1px rgba(60, 64, 67, 0.15);\n",
              "      fill: #174EA6;\n",
              "    }\n",
              "\n",
              "    [theme=dark] .colab-df-convert {\n",
              "      background-color: #3B4455;\n",
              "      fill: #D2E3FC;\n",
              "    }\n",
              "\n",
              "    [theme=dark] .colab-df-convert:hover {\n",
              "      background-color: #434B5C;\n",
              "      box-shadow: 0px 1px 3px 1px rgba(0, 0, 0, 0.15);\n",
              "      filter: drop-shadow(0px 1px 2px rgba(0, 0, 0, 0.3));\n",
              "      fill: #FFFFFF;\n",
              "    }\n",
              "  </style>\n",
              "\n",
              "      <script>\n",
              "        const buttonEl =\n",
              "          document.querySelector('#df-401ce74b-fa3e-4486-b73f-d24d6d6bea2d button.colab-df-convert');\n",
              "        buttonEl.style.display =\n",
              "          google.colab.kernel.accessAllowed ? 'block' : 'none';\n",
              "\n",
              "        async function convertToInteractive(key) {\n",
              "          const element = document.querySelector('#df-401ce74b-fa3e-4486-b73f-d24d6d6bea2d');\n",
              "          const dataTable =\n",
              "            await google.colab.kernel.invokeFunction('convertToInteractive',\n",
              "                                                     [key], {});\n",
              "          if (!dataTable) return;\n",
              "\n",
              "          const docLinkHtml = 'Like what you see? Visit the ' +\n",
              "            '<a target=\"_blank\" href=https://colab.research.google.com/notebooks/data_table.ipynb>data table notebook</a>'\n",
              "            + ' to learn more about interactive tables.';\n",
              "          element.innerHTML = '';\n",
              "          dataTable['output_type'] = 'display_data';\n",
              "          await google.colab.output.renderOutput(dataTable, element);\n",
              "          const docLink = document.createElement('div');\n",
              "          docLink.innerHTML = docLinkHtml;\n",
              "          element.appendChild(docLink);\n",
              "        }\n",
              "      </script>\n",
              "    </div>\n",
              "  </div>\n",
              "  "
            ]
          },
          "metadata": {},
          "execution_count": 76
        }
      ]
    },
    {
      "cell_type": "code",
      "source": [
        "# ... and since we want to publish in Nature, let's plot it\n",
        "df_long = pd.melt(df[df.Season == 'Winter'].loc[:, ['Height', 'Weight', 'Age', 'Sex']], \n",
        "                  \"Sex\", var_name=\"Physiscal variables\", value_name=\"values\")"
      ],
      "metadata": {
        "id": "CrFVH2YD3XWC"
      },
      "execution_count": 77,
      "outputs": []
    },
    {
      "cell_type": "code",
      "source": [
        "!pip install statannot"
      ],
      "metadata": {
        "colab": {
          "base_uri": "https://localhost:8080/"
        },
        "id": "meCfZ-7nCtdq",
        "outputId": "b7676ac0-b3bb-43fc-e5df-79a3604b704b"
      },
      "execution_count": 78,
      "outputs": [
        {
          "output_type": "stream",
          "name": "stdout",
          "text": [
            "Looking in indexes: https://pypi.org/simple, https://us-python.pkg.dev/colab-wheels/public/simple/\n",
            "Requirement already satisfied: statannot in /usr/local/lib/python3.7/dist-packages (0.2.3)\n"
          ]
        }
      ]
    },
    {
      "cell_type": "code",
      "source": [
        "from statannot import add_stat_annotation\n",
        "\n",
        "pairs = [[('Height', 'M'), ('Height', 'F')],\n",
        "         [('Weight', 'M'), ('Weight', 'F')],\n",
        "         [('Age', 'M'), ('Age', 'F')]]\n",
        "\n",
        "hue_plot_params = {'data': df_long, 'x': 'Physiscal variables',\n",
        "                   'y': 'values', \"hue\": \"Sex\"}\n",
        "\n",
        "\n",
        "fig, ax = plt.subplots(1,1, figsize=(6,6))\n",
        "ax = sns.boxplot(ax=ax, **hue_plot_params)\n",
        "add_stat_annotation(ax, **hue_plot_params, box_pairs=pairs,\n",
        "                    test='Mann-Whitney', text_format='simple', loc='inside', verbose=2)\n",
        "plt.title('Physical parameters for winter Olympics athletes')\n",
        "# plt.savefig('physical_parameters_winter_olympics_athletes.pdf', bbox_inches='tight')"
      ],
      "metadata": {
        "colab": {
          "base_uri": "https://localhost:8080/",
          "height": 234
        },
        "id": "wEcA9Nv-AP13",
        "outputId": "d76d1111-b835-45c1-a2f2-b9119e2a6c07"
      },
      "execution_count": 79,
      "outputs": [
        {
          "output_type": "stream",
          "name": "stdout",
          "text": [
            "Weight_M v.s. Weight_F: Mann-Whitney-Wilcoxon test two-sided with Bonferroni correction, P_val=0.000e+00 U_stat=1.276e+09\n",
            "Height_M v.s. Height_F: Mann-Whitney-Wilcoxon test two-sided with Bonferroni correction, P_val=0.000e+00 U_stat=1.272e+09\n",
            "Age_M v.s. Age_F: Mann-Whitney-Wilcoxon test two-sided with Bonferroni correction, P_val=3.312e-265 U_stat=8.018e+08\n"
          ]
        },
        {
          "output_type": "execute_result",
          "data": {
            "text/plain": [
              "Text(0.5, 1.0, 'Physical parameters for winter Olympics athletes')"
            ]
          },
          "metadata": {},
          "execution_count": 79
        },
        {
          "output_type": "display_data",
          "data": {
            "text/plain": [
              "<Figure size 432x432 with 1 Axes>"
            ],
            "image/png": "[encoded data removed]"
          },
          "metadata": {
            "needs_background": "light"
          }
        }
      ]
    },
    {
      "cell_type": "markdown",
      "source": [
        "### task \\#15: Team vs Medal"
      ],
      "metadata": {
        "id": "iDVs1PRKAFJ6"
      }
    },
    {
      "cell_type": "code",
      "source": [
        "# first of all let's extract both of variable into a separate table\n",
        "crosstab = pd.crosstab(index=df['Team'], columns=df['Medal'])"
      ],
      "metadata": {
        "id": "GEHPFezl2F7I"
      },
      "execution_count": 80,
      "outputs": []
    },
    {
      "cell_type": "code",
      "source": [
        "# secondly, let's run Chi Square tst as both of our variables are categorical\n",
        "from scipy.stats import chi2_contingency\n",
        "\n",
        "chi_sq_result = chi2_contingency(crosstab)"
      ],
      "metadata": {
        "id": "OtkLubRI_v9i"
      },
      "execution_count": 81,
      "outputs": []
    },
    {
      "cell_type": "code",
      "source": [
        "print(f'The p-value of the Chi-squared test is: {chi_sq_result[1]:.3e}')"
      ],
      "metadata": {
        "colab": {
          "base_uri": "https://localhost:8080/"
        },
        "id": "BWZ5UkMY_18q",
        "outputId": "07d22d27-772d-472f-b6af-02a0c22fb7b5"
      },
      "execution_count": 82,
      "outputs": [
        {
          "output_type": "stream",
          "name": "stdout",
          "text": [
            "The p-value of the Chi-squared test is: 0.000e+00\n"
          ]
        }
      ]
    },
    {
      "cell_type": "markdown",
      "source": [
        "✅ So, it is very highly likely that a type of medal correlates with a team name based on the Chi-squared test. As we have seen at the filtering step, there are many strange team names. Often country-related names have indexes (-1, -2). As teams with official country name contain more people, their chances to get medal are higher."
      ],
      "metadata": {
        "id": "iSawd4hspvvL"
      }
    }
  ]
}